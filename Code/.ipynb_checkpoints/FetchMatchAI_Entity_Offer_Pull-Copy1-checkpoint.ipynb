{
 "cells": [
  {
   "cell_type": "code",
   "execution_count": null,
   "id": "92b56dfd",
   "metadata": {},
   "outputs": [],
   "source": [
    "## FetchMatchAI Prompt Engineering Demo"
   ]
  },
  {
   "cell_type": "code",
   "execution_count": null,
   "id": "0ea66dc3",
   "metadata": {},
   "outputs": [],
   "source": [
    "## Purpose: To identify relevant offers associated with the brand or category"
   ]
  },
  {
   "cell_type": "code",
   "execution_count": 1,
   "id": "cdb2edb2",
   "metadata": {},
   "outputs": [],
   "source": [
    "#Importing relevant libraries and modules for all sections\n",
    "from langchain.chat_models import ChatOpenAI\n",
    "from langchain.chains import LLMChain\n",
    "from ipynb.fs.full.prompts import *\n",
    "import pandas as pd\n",
    "\n",
    "#Import Python DF Agent Related libraries\n",
    "from langchain.agents import create_pandas_dataframe_agent\n",
    "from langchain.chat_models import ChatOpenAI\n",
    "from langchain.agents.agent_types import AgentType\n",
    "from langchain.llms import OpenAI\n",
    "import openai\n",
    "\n",
    "import contextlib\n",
    "import io\n",
    "from IPython.display import display, HTML\n",
    "\n",
    "pd.options.display.float_format = '{:.2f}'.format"
   ]
  },
  {
   "cell_type": "code",
   "execution_count": 2,
   "id": "00ade7a4",
   "metadata": {},
   "outputs": [],
   "source": [
    "\n",
    "# Read the dataset as input\n",
    "brand_category = pd.read_csv('brand_category.csv')\n",
    "categories = pd.read_csv('categories.csv')\n",
    "offer_retailer = pd.read_csv('offer_retailer.csv')\n",
    "FetchAI_metadata = pd.read_csv('FetchAI_metadata.csv')\n",
    "\n",
    "# Joining all dataframes to get a final table\n",
    "offers_brand_w_category = pd.merge(offer_retailer,brand_category, on=\"BRAND\", how='left')\n",
    "offers_brand_w_category_w_Deets=pd.merge(offers_brand_w_category,categories, left_on=\"BRAND_BELONGS_TO_CATEGORY\", right_on=\"IS_CHILD_CATEGORY_TO\", how='left')\n",
    "\n",
    "# Turn all values to lower case\n",
    "offers_brand_w_category_w_Deets = offers_brand_w_category_w_Deets.applymap(lambda s: s.lower() if type(s) == str else s) \n",
    "\n",
    "# Dropping certain columns and re-naming a few other columns\n",
    "offers_brand_w_category_w_Deets = offers_brand_w_category_w_Deets.drop(columns=['IS_CHILD_CATEGORY_TO'])\n",
    "offers_brand_w_category_w_Deets.rename(columns = {'BRAND_BELONGS_TO_CATEGORY':'Category',\n",
    "                                                  'PRODUCT_CATEGORY':'Product'},\n",
    "                                       inplace = True)\n",
    "\n"
   ]
  },
  {
   "cell_type": "code",
   "execution_count": 3,
   "id": "fa58a892",
   "metadata": {},
   "outputs": [
    {
     "data": {
      "text/plain": [
       "(865, 7)"
      ]
     },
     "execution_count": 3,
     "metadata": {},
     "output_type": "execute_result"
    }
   ],
   "source": [
    "offers_brand_w_category_w_Deets.shape"
   ]
  },
  {
   "cell_type": "code",
   "execution_count": 4,
   "id": "0b5ae0ac",
   "metadata": {},
   "outputs": [
    {
     "data": {
      "text/html": [
       "<div>\n",
       "<style scoped>\n",
       "    .dataframe tbody tr th:only-of-type {\n",
       "        vertical-align: middle;\n",
       "    }\n",
       "\n",
       "    .dataframe tbody tr th {\n",
       "        vertical-align: top;\n",
       "    }\n",
       "\n",
       "    .dataframe thead th {\n",
       "        text-align: right;\n",
       "    }\n",
       "</style>\n",
       "<table border=\"1\" class=\"dataframe\">\n",
       "  <thead>\n",
       "    <tr style=\"text-align: right;\">\n",
       "      <th></th>\n",
       "      <th>OFFER</th>\n",
       "      <th>RETAILER</th>\n",
       "      <th>BRAND</th>\n",
       "      <th>Category</th>\n",
       "      <th>RECEIPTS</th>\n",
       "      <th>CATEGORY_ID</th>\n",
       "      <th>Product</th>\n",
       "    </tr>\n",
       "  </thead>\n",
       "  <tbody>\n",
       "    <tr>\n",
       "      <th>0</th>\n",
       "      <td>spend $50 on a full-priced new club membership</td>\n",
       "      <td>sams club</td>\n",
       "      <td>sams club</td>\n",
       "      <td>NaN</td>\n",
       "      <td>NaN</td>\n",
       "      <td>NaN</td>\n",
       "      <td>NaN</td>\n",
       "    </tr>\n",
       "    <tr>\n",
       "      <th>1</th>\n",
       "      <td>beyond meat® plant-based products, spend $25</td>\n",
       "      <td>NaN</td>\n",
       "      <td>beyond meat</td>\n",
       "      <td>plant-based meat</td>\n",
       "      <td>1584.00</td>\n",
       "      <td>NaN</td>\n",
       "      <td>NaN</td>\n",
       "    </tr>\n",
       "    <tr>\n",
       "      <th>2</th>\n",
       "      <td>beyond meat® plant-based products, spend $25</td>\n",
       "      <td>NaN</td>\n",
       "      <td>beyond meat</td>\n",
       "      <td>frozen plant-based meat</td>\n",
       "      <td>313.00</td>\n",
       "      <td>NaN</td>\n",
       "      <td>NaN</td>\n",
       "    </tr>\n",
       "  </tbody>\n",
       "</table>\n",
       "</div>"
      ],
      "text/plain": [
       "                                            OFFER   RETAILER        BRAND   \n",
       "0  spend $50 on a full-priced new club membership  sams club    sams club  \\\n",
       "1    beyond meat® plant-based products, spend $25        NaN  beyond meat   \n",
       "2    beyond meat® plant-based products, spend $25        NaN  beyond meat   \n",
       "\n",
       "                  Category  RECEIPTS CATEGORY_ID Product  \n",
       "0                      NaN       NaN         NaN     NaN  \n",
       "1         plant-based meat   1584.00         NaN     NaN  \n",
       "2  frozen plant-based meat    313.00         NaN     NaN  "
      ]
     },
     "execution_count": 4,
     "metadata": {},
     "output_type": "execute_result"
    }
   ],
   "source": [
    "offers_brand_w_category_w_Deets.head(3)"
   ]
  },
  {
   "cell_type": "code",
   "execution_count": 51,
   "id": "14f2a96f",
   "metadata": {},
   "outputs": [],
   "source": [
    "#Listing out all the Python functions that will be used in this notebook\n",
    "\n",
    "\n",
    "# 7867\n",
    "#Final prompt being used with the Python DF Agent in the Python DF Agent Strategy Notebook\n",
    "offer_search_prompt_string_Search = PromptTemplate(\n",
    "    input_variables = ['Combined_Search_String','offer_retailer'],\n",
    "    template = '''\n",
    "    \n",
    "    -------------------------------------------------------------\n",
    "    # Role and Responsibility\n",
    "    -------------------------------------------------------------\n",
    "    \n",
    "    Search the right column in {offer_retailer} in which a similar or sub-string of {Combined_Search_String} can be found.\n",
    "  \n",
    "    -------------------------------------------------------------\n",
    "    # Process\n",
    "    -------------------------------------------------------------\n",
    "    \n",
    "    Step 1: Find keywords from {Combined_Search_String} in the \"Retailer\" OR \"Brand\" OR \"Category\" OR \"Product\" columns in \n",
    "    the {offer_retailer} dataset\n",
    "    Step 2: If there are similar keywords matched, return the column name which could be one of the following:\n",
    "       a) Retailer\n",
    "       b) Brand\n",
    "       c) Product\n",
    "       d) Category\n",
    "       \n",
    "    -------------------------------------------------------------\n",
    "    # Data To Be Used\n",
    "    -------------------------------------------------------------\n",
    "    \n",
    "    Dataset to Use:\n",
    "    **********************\n",
    "    {offer_retailer}\n",
    "    \n",
    "    Columns to Use:\n",
    "    **********************\n",
    "    1) Retailer\n",
    "    2) Brand\n",
    "    3) Category\n",
    "    4) Product\n",
    "    \n",
    "\n",
    "    -------------------------------------------------------------\n",
    "    # Conditions\n",
    "    ------------------------------------------------------------- \n",
    "    - Only Return the final column name as one word\n",
    "    - \n",
    "    \n",
    "   \n",
    "    -------------------------------------------------------------\n",
    "    # IMPORTANT INSTRUCTIONS\n",
    "    -------------------------------------------------------------\n",
    "    \n",
    "    FIND THE ENTIRE STRING OF {Combined_Search_String} IN ONLY ONE COLUMN OF {offer_retailer}\n",
    "    RETURN THE FINAL OUTPUT AS A DICTIONARY\n",
    "    THE KEY OF THIS DICTIONARY SHOULD BE THE NAME OF THE COLUMN FROM {offer_retailer}\n",
    "    THE VALUE OF THIS DICTIONARY SHOULD BE THE RIGHT STRING VALUE FOR {Combined_Search_String} FROM {offer_retailer}\n",
    "    \n",
    "    \n",
    "    EXAMPLE 1:\n",
    "    If the right column to search {Combined_Search_String} in is \"Brand\", then:\n",
    "    Output Dictionary:\n",
    "        Brand : <Value from Brand Column>\n",
    "    \n",
    "    \n",
    "    \n",
    "    \n",
    "    EXAMPLE 2:\n",
    "    If the right column to search {Combined_Search_String} in is \"Product\", then:\n",
    "    Output Dictionary:\n",
    "        Product : <Value from Product Column>\n",
    "    \n",
    "    \n",
    "    Column-Value Dictionary Pair:\n",
    "    ....\n",
    "    \n",
    "   \n",
    "    ''')\n",
    "\n",
    "def get_completion(prompt, model=\"gpt-3.5-turbo-16k\"):\n",
    "    messages = [{\"role\": \"user\", \"content\": prompt}]\n",
    "    response = openai.ChatCompletion.create(\n",
    "        model=model,\n",
    "        messages=messages,\n",
    "        temperature=0, # this is the degree of randomness of the model's output\n",
    "    )\n",
    "    return response.choices[0].message[\"content\"]\n",
    "\n",
    "\n",
    "#creating a python agent on the associated dataframe\n",
    "def create_python_agent(df):\n",
    "    python_agent = 0\n",
    "    python_agent = create_pandas_dataframe_agent(OpenAI(temperature=0.2), df, verbose=True)\n",
    "    return python_agent\n",
    "\n",
    "\n",
    "search_query_generator = LLMChain(\n",
    "    llm=ChatOpenAI(model_name='gpt-3.5-turbo-16k', temperature=0.2, max_tokens=10000, openai_api_key = openai.api_key), \n",
    "    prompt=offer_search_prompt\n",
    ")\n",
    "\n",
    "\n",
    "search_query_generator_string = LLMChain(\n",
    "    llm=ChatOpenAI(model_name='gpt-3.5-turbo-16k', temperature=0.2, max_tokens=10000), \n",
    "    prompt=offer_search_prompt_string_Search\n",
    ")"
   ]
  },
  {
   "cell_type": "code",
   "execution_count": 54,
   "id": "1c5312b2",
   "metadata": {},
   "outputs": [
    {
     "name": "stdout",
     "output_type": "stream",
     "text": [
      "Enter any retailer/brand/category or product: buttterball\n"
     ]
    }
   ],
   "source": [
    "#Enter User search query as input\n",
    "\n",
    "user_input = input(\"Enter any retailer/brand/category or product: \")"
   ]
  },
  {
   "cell_type": "code",
   "execution_count": 46,
   "id": "2d9192e0",
   "metadata": {},
   "outputs": [],
   "source": [
    "# offer_search_prompt_string_Search"
   ]
  },
  {
   "cell_type": "code",
   "execution_count": 55,
   "id": "a2919c9a",
   "metadata": {},
   "outputs": [
    {
     "name": "stdout",
     "output_type": "stream",
     "text": [
      "{\n",
      "    \"Brand\": \"butterball\"\n",
      "}\n"
     ]
    }
   ],
   "source": [
    "# Generator to create a sequence of execution steps to answer the input research question\n",
    "Right_Column_to_Search = search_query_generator_string.run({\n",
    "        \n",
    "        'Combined_Search_String': user_input,\n",
    "        'offer_retailer': offers_brand_w_category_w_Deets\n",
    "    })\n",
    "\n",
    "\n",
    "print(Right_Column_to_Search)\n",
    "\n"
   ]
  },
  {
   "cell_type": "code",
   "execution_count": 50,
   "id": "d70aabc5",
   "metadata": {},
   "outputs": [
    {
     "name": "stdout",
     "output_type": "stream",
     "text": [
      "\n",
      "\n",
      "\u001b[1m> Entering new AgentExecutor chain...\u001b[0m\n",
      "\u001b[32;1m\u001b[1;3mThought: I need to filter the dataframe to get the OFFER values\n",
      "Action: python_repl_ast\n",
      "Action Input: df[(df['BRAND'] == 'dove') & (df['Product'] == 'chocolate')]['OFFER'].values\u001b[0m\n",
      "Observation: \u001b[36;1m\u001b[1;3m[]\u001b[0m\n",
      "Thought:\u001b[32;1m\u001b[1;3m There are no OFFER values for this Brand and Product\n",
      "Final Answer: There are no OFFER values for the Brand \"dove\" and Product \"chocolate\".\u001b[0m\n",
      "\n",
      "\u001b[1m> Finished chain.\u001b[0m\n",
      "Offers Pulled: \n",
      "There are no OFFER values for the Brand \"dove\" and Product \"chocolate\".\n",
      "----------------------------------------------------------\n",
      "\n"
     ]
    }
   ],
   "source": [
    "## Using Python DF Agent to generate associated observations from the Python code\n",
    "\n",
    "# Creating a Python DF Agent on a dataset with all small values\n",
    "py_df_agent_analyzer = create_python_agent(offers_brand_w_category_w_Deets)\n",
    "\n",
    "# Running the Python DF Agent on the output returned by above prompt\n",
    "Offer_pull_list = py_df_agent_analyzer.run(\"Give all OFFER values for\" + Right_Column_to_Search\n",
    "                                          )\n",
    "    \n",
    "    \n",
    "print(\"Offers Pulled: \"),\n",
    "print(Offer_pull_list)\n",
    "print('----------------------------------------------------------')\n",
    "print()"
   ]
  },
  {
   "cell_type": "code",
   "execution_count": null,
   "id": "9485d2e5",
   "metadata": {},
   "outputs": [],
   "source": []
  },
  {
   "cell_type": "code",
   "execution_count": null,
   "id": "ca024cd2",
   "metadata": {},
   "outputs": [],
   "source": []
  },
  {
   "cell_type": "code",
   "execution_count": null,
   "id": "5c7c2da9",
   "metadata": {},
   "outputs": [],
   "source": [
    "#############################################\n",
    "# Undependable below\n",
    "#############################################"
   ]
  },
  {
   "cell_type": "code",
   "execution_count": 11,
   "id": "92a98c5c",
   "metadata": {},
   "outputs": [
    {
     "name": "stdout",
     "output_type": "stream",
     "text": [
      "Enter Retailer: \n",
      "Enter Brand: butterball\n",
      "Enter Category: \n",
      "Enter Product: \n"
     ]
    }
   ],
   "source": [
    "#Enter User search query as input\n",
    "\n",
    "retailer_input = input(\"Enter Retailer: \")\n",
    "brand_input = input(\"Enter Brand: \")\n",
    "\n",
    "category_input = input(\"Enter Category: \")\n",
    "product_input = input(\"Enter Product: \")\n",
    "\n",
    "\n",
    "---------------------------------\n",
    "\n"
   ]
  },
  {
   "cell_type": "code",
   "execution_count": 15,
   "id": "a1b41d7d",
   "metadata": {},
   "outputs": [
    {
     "data": {
      "text/plain": [
       "'Skip looking into Retailer column,Brand column value is similar or alike : butterball,Skip looking into Category column,Skip looking into Product column,'"
      ]
     },
     "execution_count": 15,
     "metadata": {},
     "output_type": "execute_result"
    }
   ],
   "source": [
    "Combined_Search_String = \"\"\n",
    "\n",
    "if retailer_input != '':\n",
    "    Combined_Search_String = Combined_Search_String + 'Retailer column value is similar or alike : ' + str(retailer_input) +','\n",
    "else:\n",
    "    Combined_Search_String = Combined_Search_String + 'Skip looking into Retailer column' +','\n",
    "    \n",
    "    \n",
    "if brand_input != '':\n",
    "    Combined_Search_String = Combined_Search_String + 'Brand column value is similar or alike : ' + str(brand_input) +','\n",
    "else:\n",
    "    Combined_Search_String = Combined_Search_String + 'Skip looking into Brand column' +','\n",
    "    \n",
    "    \n",
    "    \n",
    "if category_input != '':\n",
    "    Combined_Search_String = Combined_Search_String + 'Category column value is similar or alike : ' + str(category_input) +','\n",
    "else:\n",
    "    Combined_Search_String = Combined_Search_String + 'Skip looking into Category column' +','\n",
    "    \n",
    "    \n",
    "if product_input != '':\n",
    "    Combined_Search_String = Combined_Search_String + 'Product column value is similar or alike : ' + str(product_input) \n",
    "else:\n",
    "    Combined_Search_String = Combined_Search_String + 'Skip looking into Product column' +','\n",
    "    \n",
    "\n",
    "Combined_Search_String"
   ]
  },
  {
   "cell_type": "code",
   "execution_count": 18,
   "id": "c613166a",
   "metadata": {},
   "outputs": [
    {
     "name": "stdout",
     "output_type": "stream",
     "text": [
      "\n",
      "\n",
      "\u001b[1m> Entering new AgentExecutor chain...\u001b[0m\n",
      "\u001b[32;1m\u001b[1;3mThought: I need to filter the dataframe to only include the conditions specified\n",
      "Action: python_repl_ast\n",
      "Action Input: df[(df['BRAND'].str.contains('butterball', case=False)) & (df['RETAILER'].isnull()) & (df['Category'].isnull()) & (df['Product'].isnull())].OFFER.unique()\u001b[0m\n",
      "Observation: \u001b[36;1m\u001b[1;3m[]\u001b[0m\n",
      "Thought:\u001b[32;1m\u001b[1;3m There are no offers that satisfy the conditions specified\n",
      "Final Answer: There are no offers that satisfy the conditions specified.\u001b[0m\n",
      "\n",
      "\u001b[1m> Finished chain.\u001b[0m\n",
      "Offers Pulled: \n",
      "There are no offers that satisfy the conditions specified.\n",
      "----------------------------------------------------------\n",
      "\n"
     ]
    }
   ],
   "source": [
    "## Using Python DF Agent to generate associated observations from the Python code\n",
    "\n",
    "\n",
    "\n",
    "Offer_pull_list = py_df_agent_analyzer.run(\"Give me all unique offers that only satisfy the following conditions:\" +\n",
    "                                           Combined_Search_String\n",
    "                                          )  \n",
    "    \n",
    "    \n",
    "print(\"Offers Pulled: \"),\n",
    "print(Offer_pull_list)\n",
    "print('----------------------------------------------------------')\n",
    "print()"
   ]
  },
  {
   "cell_type": "code",
   "execution_count": 79,
   "id": "2df6aa22",
   "metadata": {
    "scrolled": true
   },
   "outputs": [
    {
     "name": "stdout",
     "output_type": "stream",
     "text": [
      "\n",
      "\n",
      "\u001b[1m> Entering new AgentExecutor chain...\u001b[0m\n",
      "\u001b[32;1m\u001b[1;3mThought: I need to filter the dataframe to get the offers I need\n",
      "Action: python_repl_ast\n",
      "Action Input: df[(df['BRAND'] == 'gatorade') | (df['BRAND'] == 'gum')]\u001b[0m\n",
      "Observation: \u001b[36;1m\u001b[1;3m                                                 OFFER         RETAILER   \n",
      "8    gatorade® fast twitch®, 12-ounce 12 pack, at a...           amazon  \\\n",
      "9    gatorade® fast twitch®, 12-ounce 12 pack, at a...           amazon   \n",
      "10   gatorade® fast twitch®, 12-ounce 12 pack, at a...           amazon   \n",
      "44   gatorlyte® or gatorade™ fit single serve bottl...              NaN   \n",
      "45   gatorlyte® or gatorade™ fit single serve bottl...              NaN   \n",
      "46   gatorlyte® or gatorade™ fit single serve bottl...              NaN   \n",
      "464  gatorade® fast twitch®, 12-ounce single serve,...       fred meyer   \n",
      "465  gatorade® fast twitch®, 12-ounce single serve,...       fred meyer   \n",
      "466  gatorade® fast twitch®, 12-ounce single serve,...       fred meyer   \n",
      "691      gatorade® fast twitch®, 12-ounce single serve              NaN   \n",
      "692      gatorade® fast twitch®, 12-ounce single serve              NaN   \n",
      "693      gatorade® fast twitch®, 12-ounce single serve              NaN   \n",
      "706  gatorade® fast twitch®, 12-ounce single serve,...  dillons grocery   \n",
      "707  gatorade® fast twitch®, 12-ounce single serve,...  dillons grocery   \n",
      "708  gatorade® fast twitch®, 12-ounce single serve,...  dillons grocery   \n",
      "741  gatorlyte® or gatorade™ fit single serve bottl...              NaN   \n",
      "742  gatorlyte® or gatorade™ fit single serve bottl...              NaN   \n",
      "743  gatorlyte® or gatorade™ fit single serve bottl...              NaN   \n",
      "757  gatorade® fast twitch®, 12-ounce single serve,...        food4less   \n",
      "758  gatorade® fast twitch®, 12-ounce single serve,...        food4less   \n",
      "759  gatorade® fast twitch®, 12-ounce single serve,...        food4less   \n",
      "\n",
      "        BRAND                    Category  RECEIPTS CATEGORY_ID Product  \n",
      "8    gatorade               sports drinks  34829.00         NaN     NaN  \n",
      "9    gatorade      medicines & treatments  25275.00         NaN     NaN  \n",
      "10   gatorade  meal replacement beverages    289.00         NaN     NaN  \n",
      "44   gatorade               sports drinks  34829.00         NaN     NaN  \n",
      "45   gatorade      medicines & treatments  25275.00         NaN     NaN  \n",
      "46   gatorade  meal replacement beverages    289.00         NaN     NaN  \n",
      "464  gatorade               sports drinks  34829.00         NaN     NaN  \n",
      "465  gatorade      medicines & treatments  25275.00         NaN     NaN  \n",
      "466  gatorade  meal replacement beverages    289.00         NaN     NaN  \n",
      "691  gatorade               sports drinks  34829.00         NaN     NaN  \n",
      "692  gatorade      medicines & treatments  25275.00         NaN     NaN  \n",
      "693  gatorade  meal replacement beverages    289.00         NaN     NaN  \n",
      "706  gatorade               sports drinks  34829.00         NaN     NaN  \n",
      "707  gatorade      medicines & treatments  25275.00         NaN     NaN  \n",
      "708  gatorade  meal replacement beverages    289.00         NaN     NaN  \n",
      "741  gatorade               sports drinks  34829.00         NaN     NaN  \n",
      "742  gatorade      medicines & treatments  25275.00         NaN     NaN  \n",
      "743  gatorade  meal replacement beverages    289.00         NaN     NaN  \n",
      "757  gatorade               sports drinks  34829.00         NaN     NaN  \n",
      "758  gatorade      medicines & treatments  25275.00         NaN     NaN  \n",
      "759  gatorade  meal replacement beverages    289.00         NaN     NaN  \u001b[0m\n",
      "Thought:\u001b[32;1m\u001b[1;3m I now know the offers for gatorade and gum\n",
      "Final Answer: gatorade® fast twitch®, 12-ounce 12 pack, at a..., gatorlyte® or gatorade™ fit single serve bottl..., gatorade® fast twitch®, 12-ounce single serve,...\u001b[0m\n",
      "\n",
      "\u001b[1m> Finished chain.\u001b[0m\n",
      "Offers Pulled: \n",
      "gatorade® fast twitch®, 12-ounce 12 pack, at a..., gatorlyte® or gatorade™ fit single serve bottl..., gatorade® fast twitch®, 12-ounce single serve,...\n"
     ]
    }
   ],
   "source": [
    "# Ask me anything \n",
    "Offer_pull_list = py_df_agent_analyzer.run(\"Give me all offers for gatorade and gum\")  \n",
    "\n",
    "    \n",
    "print(\"Offers Pulled: \")\n",
    "print(Offer_pull_list)"
   ]
  },
  {
   "cell_type": "code",
   "execution_count": null,
   "id": "0779fce0",
   "metadata": {},
   "outputs": [],
   "source": []
  },
  {
   "cell_type": "code",
   "execution_count": null,
   "id": "6faf8b69",
   "metadata": {},
   "outputs": [],
   "source": []
  },
  {
   "cell_type": "code",
   "execution_count": null,
   "id": "10d55a67",
   "metadata": {},
   "outputs": [],
   "source": []
  },
  {
   "cell_type": "code",
   "execution_count": null,
   "id": "76788b39",
   "metadata": {},
   "outputs": [],
   "source": []
  },
  {
   "cell_type": "code",
   "execution_count": null,
   "id": "dd0f186c",
   "metadata": {},
   "outputs": [],
   "source": []
  }
 ],
 "metadata": {
  "kernelspec": {
   "display_name": "Python 3 (ipykernel)",
   "language": "python",
   "name": "python3"
  },
  "language_info": {
   "codemirror_mode": {
    "name": "ipython",
    "version": 3
   },
   "file_extension": ".py",
   "mimetype": "text/x-python",
   "name": "python",
   "nbconvert_exporter": "python",
   "pygments_lexer": "ipython3",
   "version": "3.10.4"
  }
 },
 "nbformat": 4,
 "nbformat_minor": 5
}
