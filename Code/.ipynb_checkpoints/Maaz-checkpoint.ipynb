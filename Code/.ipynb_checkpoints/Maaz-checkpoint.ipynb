{
 "cells": [
  {
   "cell_type": "code",
   "execution_count": 2,
   "id": "92b56dfd",
   "metadata": {},
   "outputs": [],
   "source": [
    "## FetchMatchAI Prompt Engineering Demo"
   ]
  },
  {
   "cell_type": "code",
   "execution_count": 3,
   "id": "0ea66dc3",
   "metadata": {},
   "outputs": [],
   "source": [
    "## Purpose: To identify relevant offers associated with the brand or category"
   ]
  },
  {
   "cell_type": "code",
   "execution_count": 4,
   "id": "cdb2edb2",
   "metadata": {},
   "outputs": [],
   "source": [
    "#Importing relevant libraries and modules for all sections\n",
    "from langchain.chat_models import ChatOpenAI\n",
    "from langchain.chains import LLMChain\n",
    "from ipynb.fs.full.prompts import *\n",
    "import pandas as pd\n",
    "\n",
    "#Import Python DF Agent Related libraries\n",
    "from langchain.agents import create_pandas_dataframe_agent\n",
    "from langchain.chat_models import ChatOpenAI\n",
    "from langchain.agents.agent_types import AgentType\n",
    "from langchain.llms import OpenAI\n",
    "import openai\n",
    "\n",
    "import contextlib\n",
    "import io\n",
    "from IPython.display import display, HTML\n",
    "\n",
    "pd.options.display.float_format = '{:.2f}'.format"
   ]
  },
  {
   "cell_type": "code",
   "execution_count": 5,
   "id": "00ade7a4",
   "metadata": {},
   "outputs": [],
   "source": [
    "\n",
    "# Read the dataset as input\n",
    "brand_category = pd.read_csv('brand_category.csv')\n",
    "categories = pd.read_csv('categories.csv')\n",
    "offer_retailer = pd.read_csv('offer_retailer.csv')\n",
    "FetchAI_metadata = pd.read_csv('FetchAI_metadata.csv')\n",
    "\n",
    "# Joining all dataframes to get a final table\n",
    "offers_brand_w_category = pd.merge(offer_retailer,brand_category, on=\"BRAND\", how='left')\n",
    "offers_brand_w_category_w_Deets=pd.merge(offers_brand_w_category,categories, left_on=\"BRAND_BELONGS_TO_CATEGORY\", right_on=\"IS_CHILD_CATEGORY_TO\", how='left')\n",
    "\n",
    "# Turn all values to lower case\n",
    "offers_brand_w_category_w_Deets = offers_brand_w_category_w_Deets.applymap(lambda s: s.lower() if type(s) == str else s) \n",
    "\n",
    "# Dropping certain columns and re-naming a few other columns\n",
    "offers_brand_w_category_w_Deets = offers_brand_w_category_w_Deets.drop(columns=['IS_CHILD_CATEGORY_TO'])\n",
    "offers_brand_w_category_w_Deets.rename(columns = {'BRAND_BELONGS_TO_CATEGORY':'Category',\n",
    "                                                  'PRODUCT_CATEGORY':'Product'},\n",
    "                                       inplace = True)\n",
    "\n"
   ]
  },
  {
   "cell_type": "code",
   "execution_count": 6,
   "id": "fa58a892",
   "metadata": {},
   "outputs": [
    {
     "data": {
      "text/plain": [
       "(865, 7)"
      ]
     },
     "execution_count": 6,
     "metadata": {},
     "output_type": "execute_result"
    }
   ],
   "source": [
    "offers_brand_w_category_w_Deets.shape"
   ]
  },
  {
   "cell_type": "code",
   "execution_count": 7,
   "id": "0b5ae0ac",
   "metadata": {},
   "outputs": [
    {
     "data": {
      "text/html": [
       "<div>\n",
       "<style scoped>\n",
       "    .dataframe tbody tr th:only-of-type {\n",
       "        vertical-align: middle;\n",
       "    }\n",
       "\n",
       "    .dataframe tbody tr th {\n",
       "        vertical-align: top;\n",
       "    }\n",
       "\n",
       "    .dataframe thead th {\n",
       "        text-align: right;\n",
       "    }\n",
       "</style>\n",
       "<table border=\"1\" class=\"dataframe\">\n",
       "  <thead>\n",
       "    <tr style=\"text-align: right;\">\n",
       "      <th></th>\n",
       "      <th>OFFER</th>\n",
       "      <th>RETAILER</th>\n",
       "      <th>BRAND</th>\n",
       "      <th>Category</th>\n",
       "      <th>RECEIPTS</th>\n",
       "      <th>CATEGORY_ID</th>\n",
       "      <th>Product</th>\n",
       "    </tr>\n",
       "  </thead>\n",
       "  <tbody>\n",
       "    <tr>\n",
       "      <th>0</th>\n",
       "      <td>spend $50 on a full-priced new club membership</td>\n",
       "      <td>sams club</td>\n",
       "      <td>sams club</td>\n",
       "      <td>NaN</td>\n",
       "      <td>NaN</td>\n",
       "      <td>NaN</td>\n",
       "      <td>NaN</td>\n",
       "    </tr>\n",
       "    <tr>\n",
       "      <th>1</th>\n",
       "      <td>beyond meat® plant-based products, spend $25</td>\n",
       "      <td>NaN</td>\n",
       "      <td>beyond meat</td>\n",
       "      <td>plant-based meat</td>\n",
       "      <td>1584.00</td>\n",
       "      <td>NaN</td>\n",
       "      <td>NaN</td>\n",
       "    </tr>\n",
       "    <tr>\n",
       "      <th>2</th>\n",
       "      <td>beyond meat® plant-based products, spend $25</td>\n",
       "      <td>NaN</td>\n",
       "      <td>beyond meat</td>\n",
       "      <td>frozen plant-based meat</td>\n",
       "      <td>313.00</td>\n",
       "      <td>NaN</td>\n",
       "      <td>NaN</td>\n",
       "    </tr>\n",
       "  </tbody>\n",
       "</table>\n",
       "</div>"
      ],
      "text/plain": [
       "                                            OFFER   RETAILER        BRAND   \n",
       "0  spend $50 on a full-priced new club membership  sams club    sams club  \\\n",
       "1    beyond meat® plant-based products, spend $25        NaN  beyond meat   \n",
       "2    beyond meat® plant-based products, spend $25        NaN  beyond meat   \n",
       "\n",
       "                  Category  RECEIPTS CATEGORY_ID Product  \n",
       "0                      NaN       NaN         NaN     NaN  \n",
       "1         plant-based meat   1584.00         NaN     NaN  \n",
       "2  frozen plant-based meat    313.00         NaN     NaN  "
      ]
     },
     "execution_count": 7,
     "metadata": {},
     "output_type": "execute_result"
    }
   ],
   "source": [
    "offers_brand_w_category_w_Deets.head(3)"
   ]
  },
  {
   "cell_type": "code",
   "execution_count": 153,
   "id": "14f2a96f",
   "metadata": {},
   "outputs": [],
   "source": [
    "#Listing out all the Python functions that will be used in this notebook\n",
    "\n",
    "\n",
    "# 7867\n",
    "#Final prompt being used with the Python DF Agent in the Python DF Agent Strategy Notebook\n",
    "offer_search_prompt_string_Search = PromptTemplate(\n",
    "    input_variables = ['Combined_Search_String','offer_retailer'],\n",
    "    template = '''\n",
    "    \n",
    "    -------------------------------------------------------------\n",
    "    # Roles and Responsibility\n",
    "    -------------------------------------------------------------\n",
    "    \n",
    "    \n",
    "    Give the right fuzzy match for the {Combined_Search_String} from the dataset {offer_retailer}\n",
    "\n",
    "    -------------------------------------------------------------\n",
    "    # Process\n",
    "    -------------------------------------------------------------\n",
    "    \n",
    "    Step 1: Fuzzy match the {Combined_Search_String} in all of the columns of the {offer_retailer} dataset\n",
    "    Step 2: Return the matched string\n",
    "    \n",
    "    -------------------------------------------------------------\n",
    "    # Data To Be Used\n",
    "    -------------------------------------------------------------\n",
    "    \n",
    "    Dataset to Use:\n",
    "    **********************\n",
    "    {offer_retailer}\n",
    "    \n",
    "    Columns to Use:\n",
    "    **********************\n",
    "    1) Retailer\n",
    "    2) Brand\n",
    "    3) Category\n",
    "    4) Product\n",
    "    5) OFFER\n",
    "    \n",
    "\n",
    "    -------------------------------------------------------------\n",
    "    # Conditions\n",
    "    ------------------------------------------------------------- \n",
    "    - Only return the matched string that is stored in the variable.    \n",
    "   \n",
    "    -------------------------------------------------------------\n",
    "    # IMPORTANT INSTRUCTIONS\n",
    "    -------------------------------------------------------------\n",
    "    \n",
    "    FIND THE MATCH TO ENTIRE STRING OF {Combined_Search_String} IN ANY COLUMN OF {offer_retailer}\n",
    "    RETURN THE MATCHED STRING\n",
    "    ....\n",
    "    \n",
    "   \n",
    "    ''')\n",
    "\n",
    "def get_completion(prompt, model=\"gpt-3.5-turbo-16k\"):\n",
    "    messages = [{\"role\": \"user\", \"content\": prompt}]\n",
    "    response = openai.ChatCompletion.create(\n",
    "        model=model,\n",
    "        messages=messages,\n",
    "        temperature=0, # this is the degree of randomness of the model's output\n",
    "    )\n",
    "    return response.choices[0].message[\"content\"]\n",
    "\n",
    "\n",
    "#creating a python agent on the associated dataframe\n",
    "def create_python_agent(df):\n",
    "    python_agent = 0\n",
    "    python_agent = create_pandas_dataframe_agent(OpenAI(temperature=0.2), df, verbose=True)\n",
    "    return python_agent\n",
    "\n",
    "\n",
    "search_query_generator = LLMChain(\n",
    "    llm=ChatOpenAI(model_name='gpt-3.5-turbo-16k', temperature=0.2, max_tokens=10000, openai_api_key = openai.api_key), \n",
    "    prompt=offer_search_prompt\n",
    ")\n",
    "\n",
    "\n",
    "search_query_generator_string = LLMChain(\n",
    "    llm=ChatOpenAI(model_name='gpt-3.5-turbo-16k', temperature=0.2, max_tokens=10000), \n",
    "    prompt=offer_search_prompt_string_Search\n",
    ")"
   ]
  },
  {
   "cell_type": "code",
   "execution_count": 154,
   "id": "1c5312b2",
   "metadata": {},
   "outputs": [
    {
     "name": "stdout",
     "output_type": "stream",
     "text": [
      "Enter any retailer/brand/category or product: KFC\n"
     ]
    }
   ],
   "source": [
    "#Enter User search query as input\n",
    "\n",
    "user_input = input(\"Enter any retailer/brand/category or product: \")"
   ]
  },
  {
   "cell_type": "code",
   "execution_count": 10,
   "id": "2d9192e0",
   "metadata": {},
   "outputs": [],
   "source": [
    "# offer_search_prompt_string_Search"
   ]
  },
  {
   "cell_type": "code",
   "execution_count": 155,
   "id": "a2919c9a",
   "metadata": {},
   "outputs": [
    {
     "name": "stdout",
     "output_type": "stream",
     "text": [
      "The matched string for \"KFC\" in any column of the dataset is not available.\n"
     ]
    }
   ],
   "source": [
    "# Generator to create a sequence of execution steps to answer the input research question\n",
    "Right_Column_to_Search = search_query_generator_string.run({\n",
    "        \n",
    "        'Combined_Search_String': user_input,\n",
    "        'offer_retailer': offers_brand_w_category_w_Deets\n",
    "    })\n",
    "\n",
    "\n",
    "print(Right_Column_to_Search)\n",
    "\n"
   ]
  },
  {
   "cell_type": "code",
   "execution_count": 152,
   "id": "d70aabc5",
   "metadata": {},
   "outputs": [
    {
     "name": "stdout",
     "output_type": "stream",
     "text": [
      "\n",
      "\n",
      "\u001b[1m> Entering new AgentExecutor chain...\u001b[0m\n",
      "\u001b[32;1m\u001b[1;3mThought: I need to get all the OFFER values from the dataframe.\n",
      "Action: python_repl_ast\n",
      "Action Input: df['OFFER'].tolist()\u001b[0m\n",
      "Observation: \u001b[36;1m\u001b[1;3m['spend $50 on a full-priced new club membership', 'beyond meat® plant-based products, spend $25', 'beyond meat® plant-based products, spend $25', 'beyond meat® plant-based products, spend $25', 'good humor viennetta frozen vanilla cake', 'good humor viennetta frozen vanilla cake', 'butterball, select varieties, spend $10 at dillons food store', 'butterball, select varieties, spend $10 at dillons food store', 'gatorade® fast twitch®, 12-ounce 12 pack, at amazon storefront*', 'gatorade® fast twitch®, 12-ounce 12 pack, at amazon storefront*', 'gatorade® fast twitch®, 12-ounce 12 pack, at amazon storefront*', \"emmy's organics® cookies or brownie snaps\", 'dr pepper®, regular or zero sugar strawberries and cream 12 pack, at select retailers', 'dr pepper®, regular or zero sugar strawberries and cream 12 pack, at select retailers', 'arnold, brownberry, oroweat® small slice bread, at walmart', 'arnold, brownberry, oroweat® small slice bread, at walmart', 'arnold, brownberry, oroweat® small slice bread, at walmart', 'barilla® pesto sauce', 'barilla® pesto sauce', 'barilla® pesto sauce', 'barilla® pesto sauce', 'any general mills™ products, buy 2\\r\\ngood rewards members only', 'any general mills™ products, buy 2\\r\\ngood rewards members only', 'any general mills™ products, buy 2\\r\\ngood rewards members only', 'any general mills™ products, buy 2\\r\\ngood rewards members only', 'any general mills™ products, buy 2\\r\\ngood rewards members only', 'any general mills™ products, buy 2\\r\\ngood rewards members only', 'any general mills™ products, buy 2\\r\\ngood rewards members only', 'any general mills™ products, buy 2\\r\\ngood rewards members only', 'any general mills™ products, buy 2\\r\\ngood rewards members only', 'any general mills™ products, buy 2\\r\\ngood rewards members only', 'any general mills™ products, buy 2\\r\\ngood rewards members only', 'any general mills™ products, buy 2\\r\\ngood rewards members only', 'any general mills™ products, buy 2\\r\\ngood rewards members only', 'any general mills™ products, buy 2\\r\\ngood rewards members only', 'any general mills™ products, buy 2\\r\\ngood rewards members only', 'egglife egg white wraps at aldi', \"spend $20 at zaxby's\", 'spend $10 at subway', 'dove® chocolate, select sizes, buy 1', \"hellmann's® or best foods® garlic aioli or spicy mayonnaise\", \"hellmann's® or best foods® garlic aioli or spicy mayonnaise\", \"hellmann's® or best foods® garlic aioli or spicy mayonnaise\", \"m&m's®, select sizes, buy 1\", 'gatorlyte® or gatorade™ fit single serve bottle, select varieties, buy 2', 'gatorlyte® or gatorade™ fit single serve bottle, select varieties, buy 2', 'gatorlyte® or gatorade™ fit single serve bottle, select varieties, buy 2', 'beyond steak™ plant-based seared tips, 10 ounce at target', 'beyond steak™ plant-based seared tips, 10 ounce at target', 'beyond steak™ plant-based seared tips, 10 ounce at target', 'red gold tomato ketchup', 'red gold tomato ketchup', 'red gold tomato ketchup', 'red gold tomato ketchup', 'red gold tomato ketchup', 'gillette venus ® for pubic hair & skin spend $20', 'spend $140 at shaws', \"l'oréal paris hair color, select varieties, spend $19 at target\", 'simply spiked™ lemonade 12 pack+', 'simply spiked™ lemonade 12 pack+', \"gorton's, at select retailers\", \"gorton's, at select retailers\", \"gorton's, at select retailers\", 'shop 2 times at acme', 'butterball, select varieties, spend $10 at ralphs', 'butterball, select varieties, spend $10 at ralphs', 'beyond steak™ plant-based seared tips, 10 ounce, buy 2 at h-e-b', 'beyond steak™ plant-based seared tips, 10 ounce, buy 2 at h-e-b', 'beyond steak™ plant-based seared tips, 10 ounce, buy 2 at h-e-b', 'butterball, select varieties, spend $10 at ruler foods', 'butterball, select varieties, spend $10 at ruler foods', 'spend $20 at kfc', 'spend $15 at nekter', 'order online at zaxbys.com', 'butterball, select varieties, spend $10 at king soopers', 'butterball, select varieties, spend $10 at king soopers', \"order from casey's app or caseys.com\", \"order from casey's app or caseys.com\", 'tru-ray® premium construction paper, spend $10', 'flonase allergy relief, at walmart', 'spend $25 at kfc', \"gorton's air fried butterfly shrimp, at walmart\", \"gorton's air fried butterfly shrimp, at walmart\", \"gorton's air fried butterfly shrimp, at walmart\", 'cesar® wet dog food, spend $20', 'cesar® wet dog food, spend $20', 'cesar® wet dog food, spend $20', 'cesar® wet dog food, spend $20', 'twix®, select sizes', 'twix®, select sizes', \"m&m's® chocolate candies, select varieties\", 'hidden valley® ranch salad dressing or secret sauce, select varieties', 'hidden valley® ranch salad dressing or secret sauce, select varieties', 'hidden valley® ranch salad dressing or secret sauce, select varieties', 'spend $210 at randalls', 'cooked perfect® meatballs, at walmart', \"spend $25 at casey's\", \"spend $25 at casey's\", 'perfect keto barista blend collagen & mcts, online at amazon', 'perfect keto barista blend collagen & mcts, online at amazon', 'creativity street®, spend $10', 'crunchmaster® crackers, spend $4', 'crunchmaster® crackers, spend $4', \"tyson products, select varieties, spend $20 at sam's club\", \"tyson products, select varieties, spend $20 at sam's club\", \"l'oréal paris makeup, spend $35 at target\", 'spend $25 at subway', 'any vons receipt', 'any vons receipt', 'chosen foods® mayo, select varieties', 'chosen foods® mayo, select varieties', 'chosen foods® mayo, select varieties', 'chosen foods® mayo, select varieties', \"l'oréal paris men expert hair color, spend $19 at walmart\", 'spend $185 at shaws', 'spend $150 at vons', 'spend $150 at vons', 'wine from thebarrelroom.com, spend $30', 'general mills™ products, select brands, spend $35', 'general mills™ products, select brands, spend $35', 'general mills™ products, select brands, spend $35', 'general mills™ products, select brands, spend $35', 'general mills™ products, select brands, spend $35', 'general mills™ products, select brands, spend $35', 'general mills™ products, select brands, spend $35', 'general mills™ products, select brands, spend $35', 'general mills™ products, select brands, spend $35', 'general mills™ products, select brands, spend $35', 'general mills™ products, select brands, spend $35', 'general mills™ products, select brands, spend $35', 'general mills™ products, select brands, spend $35', 'general mills™ products, select brands, spend $35', 'general mills™ products, select brands, spend $35', 'pepsico® beverage, 7.5-ounce 10 pack, select varieties, at amazon storefront*', 'sara lee® bread, select varieties, buy 2 at walmart®', 'sara lee® bread, select varieties, buy 2 at walmart®', 'sara lee® bread, select varieties, buy 2 at walmart®', 'sara lee® bread, select varieties, buy 2 at walmart®', 'sara lee® bread, select varieties, buy 2 at walmart®', 'sara lee® or alfaros® artesano bread, buy 5', 'sara lee® or alfaros® artesano bread, buy 5', 'bai® antioxidant, 6 pack, buy 2 at walmart', 'bai® antioxidant, 6 pack, buy 2 at walmart', 'bai® antioxidant, 6 pack, buy 2 at walmart', 'bai® antioxidant, 6 pack, buy 2 at walmart', \"spend $5 in-store at casey's\", \"spend $5 in-store at casey's\", \"reese's chocolate cones, 8 count at giant or martin’s\", \"reese's chocolate cones, 8 count at giant or martin’s\", 'spend $25 at fresh thyme market', 'any albertsons receipt', 'shop 2 times at albertsons', \"select beverages and prepared food items at casey's\", \"select beverages and prepared food items at casey's\", 'queen v® the vip & the wingwoman soft touch silicone vibrator at walmart', 'back to the roots grow seed starting pots or germination trays, at walmart or target', 'dove hand wash, select varieties, buy 2 at target', 'dove hand wash, select varieties, buy 2 at target', 'dove hand wash, select varieties, buy 2 at target', 'dove hand wash, select varieties, buy 2 at target', 'frutero ice cream, 1 pint', 'frutero ice cream, 1 pint', 'red gold tomato juice', 'red gold tomato juice', 'red gold tomato juice', 'red gold tomato juice', 'red gold tomato juice', 'bio-oil® skincare oil or gel, select varieties', 'bio-oil® skincare oil or gel, select varieties', 'spend $65 at albertsons', \"welch's®fruit snacks, select varieties, buy 2\", 'talenti mini bars', 'talenti mini bars', \"visit or order online from casey's 7 times\", \"visit or order online from casey's 7 times\", 'simply spiked™ signature peach 12-pack or larger, buy 2', 'simply spiked™ signature peach 12-pack or larger, buy 2', 'molson coors®, select varieties, 12 pack+', 'molson coors®, select varieties, 12 pack+', \"welch's® zero sugar fruity bites, 6 pack+, online at amazon\", 'pepsico® variety pack, select varieties, at amazon storefront*', 'spend $100 at vons', 'spend $100 at vons', 'spend $15 at subway', 'spend $35 at fresh thyme market', 'sign up for the club card or the club+ card full-priced membership* (new members only)', 'marinela® sweet baked goods, buy 2', 'marinela® sweet baked goods, buy 2', 'marinela® sweet baked goods, buy 2', 'back to the roots soils, select varieties and sizes, at walmart', 'any general mills™ products, spend $60', \"welch's® fruit snacks, select varieties, 6 count+, buy 3\", 'spend $90 at tom thumb', \"spend $5 on single-serve prepared food items at casey's\", \"spend $5 on single-serve prepared food items at casey's\", 'coors light®, miller lite® or vizzy™ 12 pack+', 'coors light®, miller lite® or vizzy™ 12 pack+', 'cooked perfect® meatballs, homestyle or turkey, at walmart', \"12 pack or 2 liter and whole pizza pie at casey's\", \"12 pack or 2 liter and whole pizza pie at casey's\", 'general mills™ products, select brands, spend $7 at convenience stores', 'general mills™ products, select brands, spend $7 at convenience stores', 'general mills™ products, select brands, spend $7 at convenience stores', 'general mills™ products, select brands, spend $7 at convenience stores', 'general mills™ products, select brands, spend $7 at convenience stores', 'general mills™ products, select brands, spend $7 at convenience stores', 'general mills™ products, select brands, spend $7 at convenience stores', 'general mills™ products, select brands, spend $7 at convenience stores', 'general mills™ products, select brands, spend $7 at convenience stores', 'general mills™ products, select brands, spend $7 at convenience stores', 'general mills™ products, select brands, spend $7 at convenience stores', 'general mills™ products, select brands, spend $7 at convenience stores', 'general mills™ products, select brands, spend $7 at convenience stores', 'general mills™ products, select brands, spend $7 at convenience stores', 'general mills™ products, select brands, spend $7 at convenience stores', 'gillette venus ® for pubic hair & skin', 'barilla® pasta, select varieties, buy 2', 'barilla® pasta, select varieties, buy 2', 'barilla® pasta, select varieties, buy 2', 'barilla® pasta, select varieties, buy 2', 'little bites® spend $10 at walmart®', 'little bites® spend $10 at walmart®', 'little bites® spend $10 at walmart®', 'little bites® spend $10 at walmart®', 'envy apples pre-packed bags', 'envy apples pre-packed bags', 'shop 2 times at tom thumb', \"ben & jerry's frozen creme brulee non dairy dessert, 16 ounce\", 'purex® laundry detergent, select varieties, at walmart', \"whole pizza at casey's\", \"whole pizza at casey's\", 'shop 2 times at safeway', 'any general mills™ products, spend $30', \"ben & jerry's® doggie desserts, 4 count\", 'sol® 6 pack+', \"george's farmers market chicken wings, at sam's club\", \"michael angelo's® or rao's® frozen entrees, spend $10\", \"michael angelo's® or rao's® frozen entrees, spend $10\", \"michael angelo's® or rao's® frozen entrees, spend $10\", \"michael angelo's® or rao's® frozen entrees, spend $10\", \"michael angelo's® or rao's® frozen entrees, spend $10\", \"michael angelo's® or rao's® frozen entrees, spend $10\", \"michael angelo's® or rao's® frozen entrees, spend $10\", \"michael angelo's® or rao's® frozen entrees, spend $10\", 'sargento sliced cheese, spend $25', 'sargento sliced cheese, spend $12', 'country crock® plant based butter at walmart', 'perfect keto beauty + sleep collagen, online at amazon', 'perfect keto beauty + sleep collagen, online at amazon', 'dove® chocolate, select varieties', 'simply spiked™ 12 pack+', 'simply spiked™ 12 pack+', 'perfect keto bars, online at amazon', 'perfect keto bars, online at amazon', 'gillette venus ® for pubic hair & skin, spend $20', 'alevex™ at walmart', 'envy apples, pre-packed bags', 'envy apples, pre-packed bags', \"ben & jerry's frozen sugar cookie dough chunks, 8 ounce\", 'l’oréal paris men expert hair color, spend $9 at walmart', \"reese's peanut butter bar, 6 count, at giant or martin’s\", \"reese's peanut butter bar, 6 count, at giant or martin’s\", 'magnum non-dairy hazelnut crunch ice cream bars, 3 count', 'butterball, select varieties, spend $10 at fred meyer', 'butterball, select varieties, spend $10 at fred meyer', \"thomas'® bagel thins®, buy 2\", \"thomas'® bagel thins®, buy 2\", \"thomas'® bagel thins®, buy 2\", \"spend $60 at tgi friday's\", \"spend $60 at tgi friday's\", \"spend $60 at tgi friday's\", 'artesano® buns, buy 2 at walmart®', 'artesano® buns, buy 2 at walmart®', 'starburst®, select sizes, buy 1', 'starburst®, select sizes, buy 1', 'starburst®, select sizes, buy 1', 'fresh step® outstretch® cat litter', 'fresh step® outstretch® cat litter', 'fresh step® outstretch® cat litter', 'fresh step® outstretch® cat litter', 'fresh step® outstretch® cat litter', 'fresh step® outstretch® cat litter', 'sara lee® or alfaros® artesano bread, spend $8', 'sara lee® or alfaros® artesano bread, spend $8', 'back to the roots dry plant food, 5 pounds, at the home depot', \"burt's bees sensitive lotions and creams, select varieties, at walmart\", \"burt's bees sensitive lotions and creams, select varieties, at walmart\", \"burt's bees sensitive lotions and creams, select varieties, at walmart\", 'durex® massage & play 2 in 1 pleasure gel, select varieties, at walmart or target', 'durex® massage & play 2 in 1 pleasure gel, select varieties, at walmart or target', 'coors light®, miller lite® or vizzy™ 12 packs+, buy 4', 'coors light®, miller lite® or vizzy™ 12 packs+, buy 4', 'life savers®', 'butterball, select varieties, spend $10 at kroger', 'butterball, select varieties, spend $10 at kroger', 'respawn® by 5® gum, at walmart', \"back to the roots garden soil, 1 cubic foot, at lowe's home improvement\", 'sio® beauty patches, online at siobeauty.com', 'wesson® oil products', 'bubbies pickles, sauerkraut, and condiments at whole foods or sprouts', \"michael angelo's® sauce at walmart\", \"michael angelo's® sauce at walmart\", 'spend $155 at pavilions', 'cesar® wet dog food singles', 'cesar® wet dog food singles', 'cesar® wet dog food singles', 'cesar® wet dog food singles', 'spend $90 at acme', 'hidden valley® ranch seasoning mix packet, 1 count', 'hidden valley® ranch seasoning mix packet, 1 count', 'hidden valley® ranch seasoning mix packet, 1 count', 'sargento® products, select varieties', \"welch's® fruit snacks, 250 count, online at amazon\", \"ben & jerry's®, select varieties\", 'simply spiked™ signature peach 12 pack+', 'simply spiked™ signature peach 12 pack+', 'beech-nut snacks, select varieties', 'beech-nut snacks, select varieties', 'beech-nut snacks, select varieties', 'beech-nut snacks, select varieties', 'sargento® products, select varieties, buy 3', 'spend $250 at acme', \"wings or cheesy breadsticks at casey's\", \"wings or cheesy breadsticks at casey's\", \"butterball, select varieties, spend $10 at smith's\", \"butterball, select varieties, spend $10 at smith's\", 'perfect keto collagen peptides, online at amazon', 'perfect keto collagen peptides, online at amazon', 'perfect keto mct oil powder, online at amazon', 'perfect keto mct oil powder, online at amazon', \"hellmann's® or best foods® and sargento® cheese slices\", \"hellmann's® or best foods® and sargento® cheese slices\", \"hellmann's® or best foods® and sargento® cheese slices\", 'brita® pitcher and filter', 'brita® pitcher and filter', 'brita® pitcher and filter', 'brita® pitcher and filter', 'brita® pitcher and filter', 'brita® pitcher and filter', 'spend $90 at star market', 'snickers®, select sizes, buy 1', 'kodiak® products, select varieties, spend $10', 'bays® english muffins', 'super coffee, 12 ounce single serve, buy 3', 'sara lee® bread select varieties, buy 2', 'sara lee® bread select varieties, buy 2', 'sara lee® bread select varieties, buy 2', 'sara lee® bread select varieties, buy 2', 'sara lee® bread select varieties, buy 2', 'goya® coconut water', 'goya® coconut water', 'goya® coconut water', 'goya® coconut water', 'goya® coconut water', 'goya® coconut water', 'goya® coconut water', 'goya® coconut water', 'goya® coconut water', 'goya® coconut water', 'goya® coconut water', 'goya® coconut water', 'goya® coconut water', 'goya® coconut water', 'goya® coconut water', 'goya® coconut water', 'goya® coconut water', 'goya® coconut water', 'goya® coconut water', 'goya® coconut water', 'goya® coconut water', 'goya® coconut water', 'goya® coconut water', 'goya® coconut water', 'goya® coconut water', 'goya® coconut water', 'goya® coconut water', 'goya® coconut water', 'goya® coconut water', 'goya® coconut water', \"spend $35 at tgi friday's\", \"spend $35 at tgi friday's\", \"spend $35 at tgi friday's\", 'spend $110 at randalls', \"reese's chocolate cones, 8 count at giant or martin’s\", \"reese's chocolate cones, 8 count at giant or martin’s\", \"whole pizza pie at casey's\", \"whole pizza pie at casey's\", 'shop 2 times at star market', 'hidden valley® ranch seasoning, select varieties', 'hidden valley® ranch seasoning, select varieties', 'hidden valley® ranch seasoning, select varieties', 'general mills™ products, select varieties, spend $12', 'general mills™ products, select varieties, spend $12', 'general mills™ products, select varieties, spend $12', 'general mills™ products, select varieties, spend $12', 'general mills™ products, select varieties, spend $12', 'general mills™ products, select varieties, spend $12', 'general mills™ products, select varieties, spend $12', 'general mills™ products, select varieties, spend $12', 'general mills™ products, select varieties, spend $12', 'general mills™ products, select varieties, spend $12', 'general mills™ products, select varieties, spend $12', 'general mills™ products, select varieties, spend $12', 'general mills™ products, select varieties, spend $12', 'general mills™ products, select varieties, spend $12', 'general mills™ products, select varieties, spend $12', 'blue apron meal kits', 'aleve® products, select varieties, 80 count+ at walmart', \"welch's® juicefuls® juicy fruit snacks, 14 count, at target\", \"welch's® fruit snacks, select varieties, 6 count+, buy 2\", \"sign up for mcalister's deli rewards, tap for details\", \"sign up for mcalister's deli rewards, tap for details\", \"sign up for mcalister's deli rewards, tap for details\", \"sign up for mcalister's deli rewards, tap for details\", \"sign up for mcalister's deli rewards, tap for details\", \"sign up for mcalister's deli rewards, tap for details\", \"sign up for mcalister's deli rewards, tap for details\", \"sign up for mcalister's deli rewards, tap for details\", \"sign up for mcalister's deli rewards, tap for details\", \"sign up for mcalister's deli rewards, tap for details\", \"sign up for mcalister's deli rewards, tap for details\", \"sign up for mcalister's deli rewards, tap for details\", \"sign up for mcalister's deli rewards, tap for details\", \"sign up for mcalister's deli rewards, tap for details\", \"sign up for mcalister's deli rewards, tap for details\", \"sign up for mcalister's deli rewards, tap for details\", \"sign up for mcalister's deli rewards, tap for details\", \"sign up for mcalister's deli rewards, tap for details\", \"sign up for mcalister's deli rewards, tap for details\", \"sign up for mcalister's deli rewards, tap for details\", \"sign up for mcalister's deli rewards, tap for details\", \"sign up for mcalister's deli rewards, tap for details\", \"sign up for mcalister's deli rewards, tap for details\", \"sign up for mcalister's deli rewards, tap for details\", \"sign up for mcalister's deli rewards, tap for details\", \"sign up for mcalister's deli rewards, tap for details\", \"sign up for mcalister's deli rewards, tap for details\", \"sign up for mcalister's deli rewards, tap for details\", \"sign up for mcalister's deli rewards, tap for details\", 'arbos cheese dip, 12 ounce, buy at central market', \"l'oréal paris excellence hair color at target\", 'kradle, select varieties, spend $20 at walmart', 'kradle, select varieties, spend $20 at walmart', \"frozen or fountain drink at casey's\", \"frozen or fountain drink at casey's\", 'arnold, brownberry, oroweat® keto bread, buy 2', 'arnold, brownberry, oroweat® keto bread, buy 2', 'arnold, brownberry, oroweat® keto bread, buy 2', \"shop 2 times at shaw's\", \"welch's®fruit snacks, spend $8\", \"children's astepro® allergy, 22 count at dollar general\", \"spend $10 in-store at casey's\", \"spend $10 in-store at casey's\", \"fresh bakery item, select varieties, at casey's\", \"fresh bakery item, select varieties, at casey's\", 'snickers® chocolate candy bar, select varieties', \"rao's® frozen pizza\", \"rao's® frozen pizza\", \"rao's® frozen pizza\", \"rao's® frozen pizza\", \"rao's® frozen pizza\", \"rao's® frozen pizza\", \"rao's® frozen pizza\", \"rao's® frozen pizza\", 'gatorade® fast twitch®, 12-ounce single serve, buy 2 at kroger', 'gatorade® fast twitch®, 12-ounce single serve, buy 2 at kroger', 'gatorade® fast twitch®, 12-ounce single serve, buy 2 at kroger', 'bimbo® sweet baked goods, buy 2', 'bimbo® sweet baked goods, buy 2', 'bimbo® sweet baked goods, buy 2', 'bimbo® sweet baked goods, buy 2', \"any shaw's receipt\", \"gorton's, at select retailers\", \"gorton's, at select retailers\", \"gorton's, at select retailers\", 'butterball, select varieties, spend $10 at food 4 less', 'butterball, select varieties, spend $10 at food 4 less', 'natuchips® plantain chips', 'beech-nut pouches, buy 8', 'beech-nut pouches, buy 8', 'beech-nut pouches, buy 8', 'beech-nut pouches, buy 8', \"spend $45 at zaxby's\", 'back to the roots raised bed gardening kit with soil, seeds and plant food, at target', \"ben & jerry's®, select varieties, spend $12\", 'any acme receipt', 'spend $220 at tom thumb', 'promised land dairy milk, 52-ounce', \"welch's® fruit 'n yogurt® snacks, 18 count, at walmart\", 'hidden valley® ranch seasoning shaker', 'hidden valley® ranch seasoning shaker', 'hidden valley® ranch seasoning shaker', 'core® hydration, select varieties, at walmart', 'when you join costco as a gold star member* (new members only)', \"whole pizza at casey's\", \"whole pizza at casey's\", 'spend $40 at farmer boys', 'colgate® toothpaste and colgate® toothbrush, select varieties at walmart or target', \"l'oréal paris hair color, select varieties, spend $25 at target\", 'twix®, select varieties', 'twix®, select varieties', 'spend $15 at kfc', 'spend $275 at vons', 'spend $275 at vons', 'extra®, select varieties', \"ben & jerry's® doggie desserts, 4 ounce, buy 2\", 'klondike cones, spend $10 at walmart ', 'klondike cones, spend $10 at walmart ', \"reese's peanut butter bar, 6 count, at giant or martin’s\", \"reese's peanut butter bar, 6 count, at giant or martin’s\", 'beyond steak™ plant-based seared tips, 10 ounce at h-e-b', 'beyond steak™ plant-based seared tips, 10 ounce at h-e-b', 'beyond steak™ plant-based seared tips, 10 ounce at h-e-b', 'kradle, select products, online at chewy.com', 'kradle, select products, online at chewy.com', 'spend $120 at star market', 'shop 2 times at vons', 'shop 2 times at vons', 'wonderworks™ keto* friendly cereal', 'mtn dew® kickstart, 16-ounce 12 count, select varieties, at amazon storefront*', 'when you join costco as an executive member* (new members only)', 'adult astepro® allergy, 22 count at dollar general', 'shop 2 times at pavilions', 'skittles®, select varieties', 'skittles®, select varieties', 'stubborn soda or bundaberg ginger beer, select varieties, at amazon storefront*', 'ballpark® buns, buy 2', 'ballpark® buns, buy 2', \"12 pack or 2 liter and whole pizza at casey's\", \"12 pack or 2 liter and whole pizza at casey's\", 'spend $220 at star market', \"frozen or fountain drink at casey's \", \"frozen or fountain drink at casey's \", \"spend $45 at tgi friday's\", \"spend $45 at tgi friday's\", \"spend $45 at tgi friday's\", \"visit or order online from casey's 3 times\", \"visit or order online from casey's 3 times\", 'spend $210 at randalls', \"visit or order online from casey's 5 times\", \"visit or order online from casey's 5 times\", 'any tom thumb receipt', \"butterball, select varieties, spend $10 at fry's food store\", \"butterball, select varieties, spend $10 at fry's food store\", 'orbit®, select sizes, buy 1', \"12 pack or 2 liter and whole pizza at casey's\", \"12 pack or 2 liter and whole pizza at casey's\", 'molson coors®, select varieties, 12 pack+, buy 2', \"thomas'®, select varieties, spend $10\", \"thomas'®, select varieties, spend $10\", \"thomas'®, select varieties, spend $10\", 'beyond steak™ plant-based seared tips, 10 ounce, buy 2 at target', 'beyond steak™ plant-based seared tips, 10 ounce, buy 2 at target', 'beyond steak™ plant-based seared tips, 10 ounce, buy 2 at target', \"whole pizza at casey's \", \"whole pizza at casey's \", 'extra®, select sizes', \"gorton's at select retailers\", \"gorton's at select retailers\", \"gorton's at select retailers\", 'brita® standard or elite filters', 'brita® standard or elite filters', 'brita® standard or elite filters', 'brita® standard or elite filters', 'brita® standard or elite filters', 'brita® standard or elite filters', 'spend $300 at shaws', 'spend $50 at fresh thyme market', 'starry™ lemon lime soda multipacks, at kroger', 'barilla® pasta, select varieties, buy 3', 'barilla® pasta, select varieties, buy 3', 'barilla® pasta, select varieties, buy 3', 'barilla® pasta, select varieties, buy 3', \"fresh bakery products at casey's, select varieties\", \"fresh bakery products at casey's, select varieties\", 'coors light®, miller lite® or vizzy™ 12 packs+, buy 2', 'coors light®, miller lite® or vizzy™ 12 packs+, buy 2', 'kradle, select varieties, online at amazon', 'kradle, select varieties, online at amazon', 'starry™ lemon lime soda, 7.5-ounce 10 pack, at amazon storefront*', 'evolve® plant-based protein shake, 4 count, select varieties, at whole foods', 'evolve® plant-based protein shake, 4 count, select varieties, at whole foods', 'evolve® plant-based protein shake, 4 count, select varieties, at whole foods', \"burt's bee's® facial wipes, select varieties, 30 count at walmart\", \"burt's bee's® facial wipes, select varieties, 30 count at walmart\", \"burt's bee's® facial wipes, select varieties, 30 count at walmart\", 'aleve® products and alevex™, select varieties, at walmart', 'beyond meat® plant-based products, spend $15', 'beyond meat® plant-based products, spend $15', 'beyond meat® plant-based products, spend $15', 'goya® adobo seasoning, 8 ounce+', 'goya® adobo seasoning, 8 ounce+', 'goya® adobo seasoning, 8 ounce+', 'goya® adobo seasoning, 8 ounce+', 'goya® adobo seasoning, 8 ounce+', 'goya® adobo seasoning, 8 ounce+', 'goya® adobo seasoning, 8 ounce+', 'goya® adobo seasoning, 8 ounce+', 'goya® adobo seasoning, 8 ounce+', 'goya® adobo seasoning, 8 ounce+', 'goya® adobo seasoning, 8 ounce+', 'goya® adobo seasoning, 8 ounce+', 'goya® adobo seasoning, 8 ounce+', 'goya® adobo seasoning, 8 ounce+', 'goya® adobo seasoning, 8 ounce+', 'goya® adobo seasoning, 8 ounce+', 'goya® adobo seasoning, 8 ounce+', 'goya® adobo seasoning, 8 ounce+', 'goya® adobo seasoning, 8 ounce+', 'goya® adobo seasoning, 8 ounce+', 'goya® adobo seasoning, 8 ounce+', 'goya® adobo seasoning, 8 ounce+', 'goya® adobo seasoning, 8 ounce+', 'goya® adobo seasoning, 8 ounce+', 'goya® adobo seasoning, 8 ounce+', 'goya® adobo seasoning, 8 ounce+', 'goya® adobo seasoning, 8 ounce+', 'goya® adobo seasoning, 8 ounce+', 'goya® adobo seasoning, 8 ounce+', 'goya® adobo seasoning, 8 ounce+', 'tyson products, select varieties, spend $15 at walmart', 'spend $210 at safeway', 'klondike cones at walmart ', 'klondike cones at walmart ', 'spend $110 at albertsons', 'bubbies pickles, sauerkraut, or condiments at whole foods or sprouts', 'sara lee® or alfaros® artesano bread, buy 2', 'sara lee® or alfaros® artesano bread, buy 2', 'beyond meat® plant-based products, spend $20', 'beyond meat® plant-based products, spend $20', 'beyond meat® plant-based products, spend $20', \"spend $10 on casey's branded packaged products\", \"spend $10 on casey's branded packaged products\", 'any randalls receipt', 'arber, at target', 'häagen-dazs®, 28 ounce, at grocery* stores', 'spend $130 at acme', 'spend $110 on a full-priced new plus membership and receive an additional 10,000 points', 'butterball, select varieties, spend $10 at qfc', 'butterball, select varieties, spend $10 at qfc', 'spend $100 at pavilions', 'glad® trash bags, 4 or 8 gallon', 'glad® trash bags, 4 or 8 gallon', 'glad® trash bags, 4 or 8 gallon', 'glad® trash bags, 4 or 8 gallon', 'glad® trash bags, 4 or 8 gallon', 'glad® trash bags, 4 or 8 gallon', 'glad® trash bags, 4 or 8 gallon', 'glad® trash bags, 4 or 8 gallon', 'tostitos® toppers™', 'tostitos® toppers™', 'tostitos® toppers™', ':ratio™ keto* friendly cereal or granola', ':ratio™ keto* friendly cereal or granola', ':ratio™ keto* friendly cereal or granola', \"burt's bees® products, select varieties, at walmart\", \"burt's bees® products, select varieties, at walmart\", \"burt's bees® products, select varieties, at walmart\", 'bio-oil® products, select varieties', 'bio-oil® products, select varieties', 'andré® california, champagne or sparkling wines, 750ml bottle', 'spend $20 at farmer boys', 'any general mills™ products, spend $50', 'chosen foods® dressings', 'chosen foods® dressings', 'chosen foods® dressings', 'chosen foods® dressings', \"spend $30 at dickey's barbecue pit\", 'degree for men or women dry spray', 'coors light®, miller lite® or vizzy™ 12 packs+, buy 3', 'coors light®, miller lite® or vizzy™ 12 packs+, buy 3', 'back to the roots microgreens grow kit or seed refill at walmart', 'spend $40 at kfc', 'bai® antioxidant, 6 pack, at walmart', 'bai® antioxidant, 6 pack, at walmart', 'bai® antioxidant, 6 pack, at walmart', 'bai® antioxidant, 6 pack, at walmart', \"spend $20 at dickey's barbecue pit\", \"spend $25 at tgi friday's\", \"spend $25 at tgi friday's\", \"spend $25 at tgi friday's\", \"l'oréal paris hair color, select varieties, spend $9 at target\", 'sargento sliced cheese, spend $18', 'skittles®, select sizes', 'skittles®, select sizes', 'lifesavers®, any size, buy 1', \"l'oréal paris makeup, spend $30 at target\", 'spend $115 at tom thumb', 'any randalls receipt', 'spend $75 at randalls', 'shop 2 times at randalls', 'gatorade® fast twitch®, 12-ounce single serve', 'gatorade® fast twitch®, 12-ounce single serve', 'gatorade® fast twitch®, 12-ounce single serve', 'spend $10 at nekter', 'brownie brittle® snacks, select varieties, buy 2', 'brownie brittle® snacks, select varieties, buy 2', 'cheerios™ oat crunch berry cereal', 'glad® forceflex max strength trash bags', 'glad® forceflex max strength trash bags', 'glad® forceflex max strength trash bags', 'glad® forceflex max strength trash bags', 'glad® forceflex max strength trash bags', 'glad® forceflex max strength trash bags', 'glad® forceflex max strength trash bags', 'glad® forceflex max strength trash bags', 'gatorade® fast twitch®, 12-ounce single serve, at kroger', 'gatorade® fast twitch®, 12-ounce single serve, at kroger', 'gatorade® fast twitch®, 12-ounce single serve, at kroger', 'spend $10 at cvs', 'spend $10 at cvs', 'spend $10 at cvs', 'spend $10 at cvs', 'oxiclean™ laundry stain removers, select varieties at walmart', 'country crock® plant based cream at walmart', \"2 pack or 2 liter and whole pizza at casey's\", \"2 pack or 2 liter and whole pizza at casey's\", 'arnold® grains almighty', 'arnold® grains almighty', 'arnold® grains almighty', 'snuggle® liquid fabric softener, at walmart', 'snuggle® liquid fabric softener, at walmart', 'snuggle® liquid fabric softener, at walmart', 'snuggle® liquid fabric softener, at walmart', 'snuggle® liquid fabric softener, at walmart', 'hidden valley® ranch night seasoning mix, 1 count', 'hidden valley® ranch night seasoning mix, 1 count', 'hidden valley® ranch night seasoning mix, 1 count', 'kradle, select varieties, at pet supplies plus', 'kradle, select varieties, at pet supplies plus', 'back to the roots soils, select varieties and sizes, at lowes', \"butterball, select varieties, spend $10 at mariano's\", \"butterball, select varieties, spend $10 at mariano's\", 'core® hydration, select varieties, buy 2 at walmart', \"spend $40 at dickey's barbecue pit\", 'general mills™ snacks, select brands, spend $10', 'back to the roots soils, select varieties, at walmart or lowes', 'barilla® pasta, select varieties, buy 4', 'barilla® pasta, select varieties, buy 4', 'barilla® pasta, select varieties, buy 4', 'barilla® pasta, select varieties, buy 4', 'gatorlyte® or gatorade™ fit single serve bottle, select varieties', 'gatorlyte® or gatorade™ fit single serve bottle, select varieties', 'gatorlyte® or gatorade™ fit single serve bottle, select varieties', \"burt's bees® sensitive lotions and creams, select varieties, at walmart\", \"burt's bees® sensitive lotions and creams, select varieties, at walmart\", \"burt's bees® sensitive lotions and creams, select varieties, at walmart\", 'arber, at walmart', 'coors light®, miller lite® or vizzy™ 12 packs+, buy 5', 'coors light®, miller lite® or vizzy™ 12 packs+, buy 5', 'any pavilions receipt', 'back to the roots grow kits at walmart or the home depot', 'any safeway receipt', \"welch's® fruit snacks, select varieties, 6 count+\", 'back to the roots grow hydroponic grow kit or refill bundle at walmart', \"ben & jerry's wake & no bake cookie dough ice cream, 16 ounce\", 'orbit®, select varieties', 'gatorade® fast twitch®, 12-ounce single serve, buy 2 at kroger', 'gatorade® fast twitch®, 12-ounce single serve, buy 2 at kroger', 'gatorade® fast twitch®, 12-ounce single serve, buy 2 at kroger', \"butterball, select varieties, spend $10 at pick 'n save or metro market\", \"butterball, select varieties, spend $10 at pick 'n save or metro market\", \"hellmann's | best foods vegan dressing or spread\", \"hellmann's | best foods vegan dressing or spread\", \"hellmann's | best foods vegan dressing or spread\", \"rao's®, pasta or sauce, spend $10\", \"rao's®, pasta or sauce, spend $10\", \"rao's®, pasta or sauce, spend $10\", \"rao's®, pasta or sauce, spend $10\", \"rao's®, pasta or sauce, spend $10\", \"rao's®, pasta or sauce, spend $10\", \"rao's®, pasta or sauce, spend $10\", \"rao's®, pasta or sauce, spend $10\", \"l'oreal paris true match foundation at target\", 'sara lee® or alfaros® artesano bread, spend $20', 'sara lee® or alfaros® artesano bread, spend $20', 'spend $220 at albertsons', 'perfect keto super reds, online at amazon', 'perfect keto super reds, online at amazon', 'the rustik oven® bread', \"gorton's at select retailers\", \"gorton's at select retailers\", \"gorton's at select retailers\", 'back to the roots seeds, at walmart', 'nature valley™ protein granola', 'nature valley™ protein granola', 'nature valley™ protein granola', 'nature valley™ protein granola', 'nature valley™ protein granola', 'nature valley™ protein granola', 'nature valley™ protein granola', 'nature valley™ protein granola', 'nature valley™ protein granola', 'nature valley™ protein granola', 'brita® pitcher or dispenser', 'brita® pitcher or dispenser', 'brita® pitcher or dispenser', 'brita® pitcher or dispenser', 'brita® pitcher or dispenser', 'brita® pitcher or dispenser', 'spend $30 at cvs', 'spend $30 at cvs', 'spend $30 at cvs', 'spend $30 at cvs', 'back to the roots organic kits and planters, at target', \"sir kensington's® condiments, buy 2\", \"sir kensington's® condiments, buy 2\", \"sir kensington's® condiments, buy 2\", 'perfect keto exogenous ketones powder, online at amazon', 'perfect keto exogenous ketones powder, online at amazon', \"select beverages and prepared food item at casey's\", \"select beverages and prepared food item at casey's\", \"back to the roots potting mix, 1 cubic foot, at lowe's home improvement\", 'barilla® pasta, select varieties, buy 2', 'barilla® pasta, select varieties, buy 2', 'barilla® pasta, select varieties, buy 2', 'barilla® pasta, select varieties, buy 2', 'any star market receipt', 'squirrel, the bedside perch, online at amazon', \"fresh bakery items, select varieties, at casey's\", \"fresh bakery items, select varieties, at casey's\", \"ben & jerry's® churray for churros™ ice cream\", \"sir kensington's® condiments\", \"sir kensington's® condiments\", \"sir kensington's® condiments\", 'dove hand wash, select varieties at target', 'dove hand wash, select varieties at target', 'dove hand wash, select varieties at target', 'dove hand wash, select varieties at target', 'spend $15 at burger king', 'cameron’s coffee ecopods', \"l'oréal paris true match foundation at target\", 'sara lee® delightful bread, buy 2', 'sara lee® delightful bread, buy 2', 'sara lee® delightful bread, buy 2', 'sara lee® delightful bread, buy 2', 'sara lee® delightful bread, buy 2', \"welch's® juicefuls® juicy fruit snacks, buy 2\", 'spend $35 at subway', 'dixon® safety carpenter pencil, 10 count, at lowe’s®', 'dixon® safety carpenter pencil, 10 count, at lowe’s®', 'spend $115 at safeway', \"breyers reese's ice cream, select varieties, at giant or martin’s\", \"breyers reese's ice cream, select varieties, at giant or martin’s\", 'shop 2 times at randalls', \"jack link's®, select varieties\", 'persil® proclean®, select varieties, at walmart', 'back to the roots organic 3-in-1 seed starting mix 12 quart, at walmart or target', 'starburst®, select varieties', 'starburst®, select varieties', 'starburst®, select varieties', 'super coffee, 12 ounce single serve', 'spend $90 at safeway', 'spend $5 on brisket mac & cheese sandwich or other single-serve prepared food item', 'spend $5 on brisket mac & cheese sandwich or other single-serve prepared food item', 'spend $50 at chewy.com', 'simply organic seasoning mixes or spices', 'simply organic seasoning mixes or spices', 'spend $10 at kfc', 'sargento product', \"thomas'® bagel thins\", \"thomas'® bagel thins\", \"thomas'® bagel thins\", 'spend $270 at pavilions', 'back to the roots soils, select varieties, at walmart']\u001b[0m\n",
      "Thought:"
     ]
    },
    {
     "ename": "InvalidRequestError",
     "evalue": "This model's maximum context length is 4097 tokens, however you requested 12061 tokens (11805 in your prompt; 256 for the completion). Please reduce your prompt; or completion length.",
     "output_type": "error",
     "traceback": [
      "\u001b[1;31m---------------------------------------------------------------------------\u001b[0m",
      "\u001b[1;31mInvalidRequestError\u001b[0m                       Traceback (most recent call last)",
      "Cell \u001b[1;32mIn[152], line 7\u001b[0m\n\u001b[0;32m      4\u001b[0m py_df_agent_analyzer \u001b[38;5;241m=\u001b[39m create_python_agent(offers_brand_w_category_w_Deets)\n\u001b[0;32m      6\u001b[0m \u001b[38;5;66;03m# Running the Python DF Agent on the output returned by above prompt\u001b[39;00m\n\u001b[1;32m----> 7\u001b[0m Offer_pull_list \u001b[38;5;241m=\u001b[39m \u001b[43mpy_df_agent_analyzer\u001b[49m\u001b[38;5;241;43m.\u001b[39;49m\u001b[43mrun\u001b[49m\u001b[43m(\u001b[49m\u001b[38;5;124;43m\"\u001b[39;49m\u001b[38;5;124;43mGive all OFFER values for\u001b[39;49m\u001b[38;5;124;43m\"\u001b[39;49m\u001b[43m \u001b[49m\u001b[38;5;241;43m+\u001b[39;49m\u001b[43m \u001b[49m\u001b[43mRight_Column_to_Search\u001b[49m\n\u001b[0;32m      8\u001b[0m \u001b[43m                                          \u001b[49m\u001b[43m)\u001b[49m\n\u001b[0;32m     11\u001b[0m \u001b[38;5;28mprint\u001b[39m(\u001b[38;5;124m\"\u001b[39m\u001b[38;5;124mOffers Pulled: \u001b[39m\u001b[38;5;124m\"\u001b[39m),\n\u001b[0;32m     12\u001b[0m \u001b[38;5;28mprint\u001b[39m(Offer_pull_list)\n",
      "File \u001b[1;32m~\\anaconda3\\envs\\ml_env\\lib\\site-packages\\langchain\\chains\\base.py:213\u001b[0m, in \u001b[0;36mChain.run\u001b[1;34m(self, *args, **kwargs)\u001b[0m\n\u001b[0;32m    211\u001b[0m     \u001b[38;5;28;01mif\u001b[39;00m \u001b[38;5;28mlen\u001b[39m(args) \u001b[38;5;241m!=\u001b[39m \u001b[38;5;241m1\u001b[39m:\n\u001b[0;32m    212\u001b[0m         \u001b[38;5;28;01mraise\u001b[39;00m \u001b[38;5;167;01mValueError\u001b[39;00m(\u001b[38;5;124m\"\u001b[39m\u001b[38;5;124m`run` supports only one positional argument.\u001b[39m\u001b[38;5;124m\"\u001b[39m)\n\u001b[1;32m--> 213\u001b[0m     \u001b[38;5;28;01mreturn\u001b[39;00m \u001b[38;5;28;43mself\u001b[39;49m\u001b[43m(\u001b[49m\u001b[43margs\u001b[49m\u001b[43m[\u001b[49m\u001b[38;5;241;43m0\u001b[39;49m\u001b[43m]\u001b[49m\u001b[43m)\u001b[49m[\u001b[38;5;28mself\u001b[39m\u001b[38;5;241m.\u001b[39moutput_keys[\u001b[38;5;241m0\u001b[39m]]\n\u001b[0;32m    215\u001b[0m \u001b[38;5;28;01mif\u001b[39;00m kwargs \u001b[38;5;129;01mand\u001b[39;00m \u001b[38;5;129;01mnot\u001b[39;00m args:\n\u001b[0;32m    216\u001b[0m     \u001b[38;5;28;01mreturn\u001b[39;00m \u001b[38;5;28mself\u001b[39m(kwargs)[\u001b[38;5;28mself\u001b[39m\u001b[38;5;241m.\u001b[39moutput_keys[\u001b[38;5;241m0\u001b[39m]]\n",
      "File \u001b[1;32m~\\anaconda3\\envs\\ml_env\\lib\\site-packages\\langchain\\chains\\base.py:116\u001b[0m, in \u001b[0;36mChain.__call__\u001b[1;34m(self, inputs, return_only_outputs)\u001b[0m\n\u001b[0;32m    114\u001b[0m \u001b[38;5;28;01mexcept\u001b[39;00m (\u001b[38;5;167;01mKeyboardInterrupt\u001b[39;00m, \u001b[38;5;167;01mException\u001b[39;00m) \u001b[38;5;28;01mas\u001b[39;00m e:\n\u001b[0;32m    115\u001b[0m     \u001b[38;5;28mself\u001b[39m\u001b[38;5;241m.\u001b[39mcallback_manager\u001b[38;5;241m.\u001b[39mon_chain_error(e, verbose\u001b[38;5;241m=\u001b[39m\u001b[38;5;28mself\u001b[39m\u001b[38;5;241m.\u001b[39mverbose)\n\u001b[1;32m--> 116\u001b[0m     \u001b[38;5;28;01mraise\u001b[39;00m e\n\u001b[0;32m    117\u001b[0m \u001b[38;5;28mself\u001b[39m\u001b[38;5;241m.\u001b[39mcallback_manager\u001b[38;5;241m.\u001b[39mon_chain_end(outputs, verbose\u001b[38;5;241m=\u001b[39m\u001b[38;5;28mself\u001b[39m\u001b[38;5;241m.\u001b[39mverbose)\n\u001b[0;32m    118\u001b[0m \u001b[38;5;28;01mreturn\u001b[39;00m \u001b[38;5;28mself\u001b[39m\u001b[38;5;241m.\u001b[39mprep_outputs(inputs, outputs, return_only_outputs)\n",
      "File \u001b[1;32m~\\anaconda3\\envs\\ml_env\\lib\\site-packages\\langchain\\chains\\base.py:113\u001b[0m, in \u001b[0;36mChain.__call__\u001b[1;34m(self, inputs, return_only_outputs)\u001b[0m\n\u001b[0;32m    107\u001b[0m \u001b[38;5;28mself\u001b[39m\u001b[38;5;241m.\u001b[39mcallback_manager\u001b[38;5;241m.\u001b[39mon_chain_start(\n\u001b[0;32m    108\u001b[0m     {\u001b[38;5;124m\"\u001b[39m\u001b[38;5;124mname\u001b[39m\u001b[38;5;124m\"\u001b[39m: \u001b[38;5;28mself\u001b[39m\u001b[38;5;241m.\u001b[39m\u001b[38;5;18m__class__\u001b[39m\u001b[38;5;241m.\u001b[39m\u001b[38;5;18m__name__\u001b[39m},\n\u001b[0;32m    109\u001b[0m     inputs,\n\u001b[0;32m    110\u001b[0m     verbose\u001b[38;5;241m=\u001b[39m\u001b[38;5;28mself\u001b[39m\u001b[38;5;241m.\u001b[39mverbose,\n\u001b[0;32m    111\u001b[0m )\n\u001b[0;32m    112\u001b[0m \u001b[38;5;28;01mtry\u001b[39;00m:\n\u001b[1;32m--> 113\u001b[0m     outputs \u001b[38;5;241m=\u001b[39m \u001b[38;5;28;43mself\u001b[39;49m\u001b[38;5;241;43m.\u001b[39;49m\u001b[43m_call\u001b[49m\u001b[43m(\u001b[49m\u001b[43minputs\u001b[49m\u001b[43m)\u001b[49m\n\u001b[0;32m    114\u001b[0m \u001b[38;5;28;01mexcept\u001b[39;00m (\u001b[38;5;167;01mKeyboardInterrupt\u001b[39;00m, \u001b[38;5;167;01mException\u001b[39;00m) \u001b[38;5;28;01mas\u001b[39;00m e:\n\u001b[0;32m    115\u001b[0m     \u001b[38;5;28mself\u001b[39m\u001b[38;5;241m.\u001b[39mcallback_manager\u001b[38;5;241m.\u001b[39mon_chain_error(e, verbose\u001b[38;5;241m=\u001b[39m\u001b[38;5;28mself\u001b[39m\u001b[38;5;241m.\u001b[39mverbose)\n",
      "File \u001b[1;32m~\\anaconda3\\envs\\ml_env\\lib\\site-packages\\langchain\\agents\\agent.py:796\u001b[0m, in \u001b[0;36mAgentExecutor._call\u001b[1;34m(self, inputs)\u001b[0m\n\u001b[0;32m    794\u001b[0m \u001b[38;5;66;03m# We now enter the agent loop (until it returns something).\u001b[39;00m\n\u001b[0;32m    795\u001b[0m \u001b[38;5;28;01mwhile\u001b[39;00m \u001b[38;5;28mself\u001b[39m\u001b[38;5;241m.\u001b[39m_should_continue(iterations, time_elapsed):\n\u001b[1;32m--> 796\u001b[0m     next_step_output \u001b[38;5;241m=\u001b[39m \u001b[38;5;28;43mself\u001b[39;49m\u001b[38;5;241;43m.\u001b[39;49m\u001b[43m_take_next_step\u001b[49m\u001b[43m(\u001b[49m\n\u001b[0;32m    797\u001b[0m \u001b[43m        \u001b[49m\u001b[43mname_to_tool_map\u001b[49m\u001b[43m,\u001b[49m\u001b[43m \u001b[49m\u001b[43mcolor_mapping\u001b[49m\u001b[43m,\u001b[49m\u001b[43m \u001b[49m\u001b[43minputs\u001b[49m\u001b[43m,\u001b[49m\u001b[43m \u001b[49m\u001b[43mintermediate_steps\u001b[49m\n\u001b[0;32m    798\u001b[0m \u001b[43m    \u001b[49m\u001b[43m)\u001b[49m\n\u001b[0;32m    799\u001b[0m     \u001b[38;5;28;01mif\u001b[39;00m \u001b[38;5;28misinstance\u001b[39m(next_step_output, AgentFinish):\n\u001b[0;32m    800\u001b[0m         \u001b[38;5;28;01mreturn\u001b[39;00m \u001b[38;5;28mself\u001b[39m\u001b[38;5;241m.\u001b[39m_return(next_step_output, intermediate_steps)\n",
      "File \u001b[1;32m~\\anaconda3\\envs\\ml_env\\lib\\site-packages\\langchain\\agents\\agent.py:676\u001b[0m, in \u001b[0;36mAgentExecutor._take_next_step\u001b[1;34m(self, name_to_tool_map, color_mapping, inputs, intermediate_steps)\u001b[0m\n\u001b[0;32m    671\u001b[0m \u001b[38;5;124;03m\"\"\"Take a single step in the thought-action-observation loop.\u001b[39;00m\n\u001b[0;32m    672\u001b[0m \n\u001b[0;32m    673\u001b[0m \u001b[38;5;124;03mOverride this to take control of how the agent makes and acts on choices.\u001b[39;00m\n\u001b[0;32m    674\u001b[0m \u001b[38;5;124;03m\"\"\"\u001b[39;00m\n\u001b[0;32m    675\u001b[0m \u001b[38;5;66;03m# Call the LLM to see what to do.\u001b[39;00m\n\u001b[1;32m--> 676\u001b[0m output \u001b[38;5;241m=\u001b[39m \u001b[38;5;28mself\u001b[39m\u001b[38;5;241m.\u001b[39magent\u001b[38;5;241m.\u001b[39mplan(intermediate_steps, \u001b[38;5;241m*\u001b[39m\u001b[38;5;241m*\u001b[39minputs)\n\u001b[0;32m    677\u001b[0m \u001b[38;5;66;03m# If the tool chosen is the finishing tool, then we end and return.\u001b[39;00m\n\u001b[0;32m    678\u001b[0m \u001b[38;5;28;01mif\u001b[39;00m \u001b[38;5;28misinstance\u001b[39m(output, AgentFinish):\n",
      "File \u001b[1;32m~\\anaconda3\\envs\\ml_env\\lib\\site-packages\\langchain\\agents\\agent.py:384\u001b[0m, in \u001b[0;36mAgent.plan\u001b[1;34m(self, intermediate_steps, **kwargs)\u001b[0m\n\u001b[0;32m    373\u001b[0m \u001b[38;5;124;03m\"\"\"Given input, decided what to do.\u001b[39;00m\n\u001b[0;32m    374\u001b[0m \n\u001b[0;32m    375\u001b[0m \u001b[38;5;124;03mArgs:\u001b[39;00m\n\u001b[1;32m   (...)\u001b[0m\n\u001b[0;32m    381\u001b[0m \u001b[38;5;124;03m    Action specifying what tool to use.\u001b[39;00m\n\u001b[0;32m    382\u001b[0m \u001b[38;5;124;03m\"\"\"\u001b[39;00m\n\u001b[0;32m    383\u001b[0m full_inputs \u001b[38;5;241m=\u001b[39m \u001b[38;5;28mself\u001b[39m\u001b[38;5;241m.\u001b[39mget_full_inputs(intermediate_steps, \u001b[38;5;241m*\u001b[39m\u001b[38;5;241m*\u001b[39mkwargs)\n\u001b[1;32m--> 384\u001b[0m full_output \u001b[38;5;241m=\u001b[39m \u001b[38;5;28mself\u001b[39m\u001b[38;5;241m.\u001b[39mllm_chain\u001b[38;5;241m.\u001b[39mpredict(\u001b[38;5;241m*\u001b[39m\u001b[38;5;241m*\u001b[39mfull_inputs)\n\u001b[0;32m    385\u001b[0m \u001b[38;5;28;01mreturn\u001b[39;00m \u001b[38;5;28mself\u001b[39m\u001b[38;5;241m.\u001b[39moutput_parser\u001b[38;5;241m.\u001b[39mparse(full_output)\n",
      "File \u001b[1;32m~\\anaconda3\\envs\\ml_env\\lib\\site-packages\\langchain\\chains\\llm.py:151\u001b[0m, in \u001b[0;36mLLMChain.predict\u001b[1;34m(self, **kwargs)\u001b[0m\n\u001b[0;32m    137\u001b[0m \u001b[38;5;28;01mdef\u001b[39;00m \u001b[38;5;21mpredict\u001b[39m(\u001b[38;5;28mself\u001b[39m, \u001b[38;5;241m*\u001b[39m\u001b[38;5;241m*\u001b[39mkwargs: Any) \u001b[38;5;241m-\u001b[39m\u001b[38;5;241m>\u001b[39m \u001b[38;5;28mstr\u001b[39m:\n\u001b[0;32m    138\u001b[0m     \u001b[38;5;124;03m\"\"\"Format prompt with kwargs and pass to LLM.\u001b[39;00m\n\u001b[0;32m    139\u001b[0m \n\u001b[0;32m    140\u001b[0m \u001b[38;5;124;03m    Args:\u001b[39;00m\n\u001b[1;32m   (...)\u001b[0m\n\u001b[0;32m    149\u001b[0m \u001b[38;5;124;03m            completion = llm.predict(adjective=\"funny\")\u001b[39;00m\n\u001b[0;32m    150\u001b[0m \u001b[38;5;124;03m    \"\"\"\u001b[39;00m\n\u001b[1;32m--> 151\u001b[0m     \u001b[38;5;28;01mreturn\u001b[39;00m \u001b[38;5;28;43mself\u001b[39;49m\u001b[43m(\u001b[49m\u001b[43mkwargs\u001b[49m\u001b[43m)\u001b[49m[\u001b[38;5;28mself\u001b[39m\u001b[38;5;241m.\u001b[39moutput_key]\n",
      "File \u001b[1;32m~\\anaconda3\\envs\\ml_env\\lib\\site-packages\\langchain\\chains\\base.py:116\u001b[0m, in \u001b[0;36mChain.__call__\u001b[1;34m(self, inputs, return_only_outputs)\u001b[0m\n\u001b[0;32m    114\u001b[0m \u001b[38;5;28;01mexcept\u001b[39;00m (\u001b[38;5;167;01mKeyboardInterrupt\u001b[39;00m, \u001b[38;5;167;01mException\u001b[39;00m) \u001b[38;5;28;01mas\u001b[39;00m e:\n\u001b[0;32m    115\u001b[0m     \u001b[38;5;28mself\u001b[39m\u001b[38;5;241m.\u001b[39mcallback_manager\u001b[38;5;241m.\u001b[39mon_chain_error(e, verbose\u001b[38;5;241m=\u001b[39m\u001b[38;5;28mself\u001b[39m\u001b[38;5;241m.\u001b[39mverbose)\n\u001b[1;32m--> 116\u001b[0m     \u001b[38;5;28;01mraise\u001b[39;00m e\n\u001b[0;32m    117\u001b[0m \u001b[38;5;28mself\u001b[39m\u001b[38;5;241m.\u001b[39mcallback_manager\u001b[38;5;241m.\u001b[39mon_chain_end(outputs, verbose\u001b[38;5;241m=\u001b[39m\u001b[38;5;28mself\u001b[39m\u001b[38;5;241m.\u001b[39mverbose)\n\u001b[0;32m    118\u001b[0m \u001b[38;5;28;01mreturn\u001b[39;00m \u001b[38;5;28mself\u001b[39m\u001b[38;5;241m.\u001b[39mprep_outputs(inputs, outputs, return_only_outputs)\n",
      "File \u001b[1;32m~\\anaconda3\\envs\\ml_env\\lib\\site-packages\\langchain\\chains\\base.py:113\u001b[0m, in \u001b[0;36mChain.__call__\u001b[1;34m(self, inputs, return_only_outputs)\u001b[0m\n\u001b[0;32m    107\u001b[0m \u001b[38;5;28mself\u001b[39m\u001b[38;5;241m.\u001b[39mcallback_manager\u001b[38;5;241m.\u001b[39mon_chain_start(\n\u001b[0;32m    108\u001b[0m     {\u001b[38;5;124m\"\u001b[39m\u001b[38;5;124mname\u001b[39m\u001b[38;5;124m\"\u001b[39m: \u001b[38;5;28mself\u001b[39m\u001b[38;5;241m.\u001b[39m\u001b[38;5;18m__class__\u001b[39m\u001b[38;5;241m.\u001b[39m\u001b[38;5;18m__name__\u001b[39m},\n\u001b[0;32m    109\u001b[0m     inputs,\n\u001b[0;32m    110\u001b[0m     verbose\u001b[38;5;241m=\u001b[39m\u001b[38;5;28mself\u001b[39m\u001b[38;5;241m.\u001b[39mverbose,\n\u001b[0;32m    111\u001b[0m )\n\u001b[0;32m    112\u001b[0m \u001b[38;5;28;01mtry\u001b[39;00m:\n\u001b[1;32m--> 113\u001b[0m     outputs \u001b[38;5;241m=\u001b[39m \u001b[38;5;28;43mself\u001b[39;49m\u001b[38;5;241;43m.\u001b[39;49m\u001b[43m_call\u001b[49m\u001b[43m(\u001b[49m\u001b[43minputs\u001b[49m\u001b[43m)\u001b[49m\n\u001b[0;32m    114\u001b[0m \u001b[38;5;28;01mexcept\u001b[39;00m (\u001b[38;5;167;01mKeyboardInterrupt\u001b[39;00m, \u001b[38;5;167;01mException\u001b[39;00m) \u001b[38;5;28;01mas\u001b[39;00m e:\n\u001b[0;32m    115\u001b[0m     \u001b[38;5;28mself\u001b[39m\u001b[38;5;241m.\u001b[39mcallback_manager\u001b[38;5;241m.\u001b[39mon_chain_error(e, verbose\u001b[38;5;241m=\u001b[39m\u001b[38;5;28mself\u001b[39m\u001b[38;5;241m.\u001b[39mverbose)\n",
      "File \u001b[1;32m~\\anaconda3\\envs\\ml_env\\lib\\site-packages\\langchain\\chains\\llm.py:57\u001b[0m, in \u001b[0;36mLLMChain._call\u001b[1;34m(self, inputs)\u001b[0m\n\u001b[0;32m     56\u001b[0m \u001b[38;5;28;01mdef\u001b[39;00m \u001b[38;5;21m_call\u001b[39m(\u001b[38;5;28mself\u001b[39m, inputs: Dict[\u001b[38;5;28mstr\u001b[39m, Any]) \u001b[38;5;241m-\u001b[39m\u001b[38;5;241m>\u001b[39m Dict[\u001b[38;5;28mstr\u001b[39m, \u001b[38;5;28mstr\u001b[39m]:\n\u001b[1;32m---> 57\u001b[0m     \u001b[38;5;28;01mreturn\u001b[39;00m \u001b[38;5;28;43mself\u001b[39;49m\u001b[38;5;241;43m.\u001b[39;49m\u001b[43mapply\u001b[49m\u001b[43m(\u001b[49m\u001b[43m[\u001b[49m\u001b[43minputs\u001b[49m\u001b[43m]\u001b[49m\u001b[43m)\u001b[49m[\u001b[38;5;241m0\u001b[39m]\n",
      "File \u001b[1;32m~\\anaconda3\\envs\\ml_env\\lib\\site-packages\\langchain\\chains\\llm.py:118\u001b[0m, in \u001b[0;36mLLMChain.apply\u001b[1;34m(self, input_list)\u001b[0m\n\u001b[0;32m    116\u001b[0m \u001b[38;5;28;01mdef\u001b[39;00m \u001b[38;5;21mapply\u001b[39m(\u001b[38;5;28mself\u001b[39m, input_list: List[Dict[\u001b[38;5;28mstr\u001b[39m, Any]]) \u001b[38;5;241m-\u001b[39m\u001b[38;5;241m>\u001b[39m List[Dict[\u001b[38;5;28mstr\u001b[39m, \u001b[38;5;28mstr\u001b[39m]]:\n\u001b[0;32m    117\u001b[0m     \u001b[38;5;124;03m\"\"\"Utilize the LLM generate method for speed gains.\"\"\"\u001b[39;00m\n\u001b[1;32m--> 118\u001b[0m     response \u001b[38;5;241m=\u001b[39m \u001b[38;5;28;43mself\u001b[39;49m\u001b[38;5;241;43m.\u001b[39;49m\u001b[43mgenerate\u001b[49m\u001b[43m(\u001b[49m\u001b[43minput_list\u001b[49m\u001b[43m)\u001b[49m\n\u001b[0;32m    119\u001b[0m     \u001b[38;5;28;01mreturn\u001b[39;00m \u001b[38;5;28mself\u001b[39m\u001b[38;5;241m.\u001b[39mcreate_outputs(response)\n",
      "File \u001b[1;32m~\\anaconda3\\envs\\ml_env\\lib\\site-packages\\langchain\\chains\\llm.py:62\u001b[0m, in \u001b[0;36mLLMChain.generate\u001b[1;34m(self, input_list)\u001b[0m\n\u001b[0;32m     60\u001b[0m \u001b[38;5;124;03m\"\"\"Generate LLM result from inputs.\"\"\"\u001b[39;00m\n\u001b[0;32m     61\u001b[0m prompts, stop \u001b[38;5;241m=\u001b[39m \u001b[38;5;28mself\u001b[39m\u001b[38;5;241m.\u001b[39mprep_prompts(input_list)\n\u001b[1;32m---> 62\u001b[0m \u001b[38;5;28;01mreturn\u001b[39;00m \u001b[38;5;28;43mself\u001b[39;49m\u001b[38;5;241;43m.\u001b[39;49m\u001b[43mllm\u001b[49m\u001b[38;5;241;43m.\u001b[39;49m\u001b[43mgenerate_prompt\u001b[49m\u001b[43m(\u001b[49m\u001b[43mprompts\u001b[49m\u001b[43m,\u001b[49m\u001b[43m \u001b[49m\u001b[43mstop\u001b[49m\u001b[43m)\u001b[49m\n",
      "File \u001b[1;32m~\\anaconda3\\envs\\ml_env\\lib\\site-packages\\langchain\\llms\\base.py:107\u001b[0m, in \u001b[0;36mBaseLLM.generate_prompt\u001b[1;34m(self, prompts, stop)\u001b[0m\n\u001b[0;32m    103\u001b[0m \u001b[38;5;28;01mdef\u001b[39;00m \u001b[38;5;21mgenerate_prompt\u001b[39m(\n\u001b[0;32m    104\u001b[0m     \u001b[38;5;28mself\u001b[39m, prompts: List[PromptValue], stop: Optional[List[\u001b[38;5;28mstr\u001b[39m]] \u001b[38;5;241m=\u001b[39m \u001b[38;5;28;01mNone\u001b[39;00m\n\u001b[0;32m    105\u001b[0m ) \u001b[38;5;241m-\u001b[39m\u001b[38;5;241m>\u001b[39m LLMResult:\n\u001b[0;32m    106\u001b[0m     prompt_strings \u001b[38;5;241m=\u001b[39m [p\u001b[38;5;241m.\u001b[39mto_string() \u001b[38;5;28;01mfor\u001b[39;00m p \u001b[38;5;129;01min\u001b[39;00m prompts]\n\u001b[1;32m--> 107\u001b[0m     \u001b[38;5;28;01mreturn\u001b[39;00m \u001b[38;5;28;43mself\u001b[39;49m\u001b[38;5;241;43m.\u001b[39;49m\u001b[43mgenerate\u001b[49m\u001b[43m(\u001b[49m\u001b[43mprompt_strings\u001b[49m\u001b[43m,\u001b[49m\u001b[43m \u001b[49m\u001b[43mstop\u001b[49m\u001b[38;5;241;43m=\u001b[39;49m\u001b[43mstop\u001b[49m\u001b[43m)\u001b[49m\n",
      "File \u001b[1;32m~\\anaconda3\\envs\\ml_env\\lib\\site-packages\\langchain\\llms\\base.py:140\u001b[0m, in \u001b[0;36mBaseLLM.generate\u001b[1;34m(self, prompts, stop)\u001b[0m\n\u001b[0;32m    138\u001b[0m \u001b[38;5;28;01mexcept\u001b[39;00m (\u001b[38;5;167;01mKeyboardInterrupt\u001b[39;00m, \u001b[38;5;167;01mException\u001b[39;00m) \u001b[38;5;28;01mas\u001b[39;00m e:\n\u001b[0;32m    139\u001b[0m     \u001b[38;5;28mself\u001b[39m\u001b[38;5;241m.\u001b[39mcallback_manager\u001b[38;5;241m.\u001b[39mon_llm_error(e, verbose\u001b[38;5;241m=\u001b[39m\u001b[38;5;28mself\u001b[39m\u001b[38;5;241m.\u001b[39mverbose)\n\u001b[1;32m--> 140\u001b[0m     \u001b[38;5;28;01mraise\u001b[39;00m e\n\u001b[0;32m    141\u001b[0m \u001b[38;5;28mself\u001b[39m\u001b[38;5;241m.\u001b[39mcallback_manager\u001b[38;5;241m.\u001b[39mon_llm_end(output, verbose\u001b[38;5;241m=\u001b[39m\u001b[38;5;28mself\u001b[39m\u001b[38;5;241m.\u001b[39mverbose)\n\u001b[0;32m    142\u001b[0m \u001b[38;5;28;01mreturn\u001b[39;00m output\n",
      "File \u001b[1;32m~\\anaconda3\\envs\\ml_env\\lib\\site-packages\\langchain\\llms\\base.py:137\u001b[0m, in \u001b[0;36mBaseLLM.generate\u001b[1;34m(self, prompts, stop)\u001b[0m\n\u001b[0;32m    133\u001b[0m \u001b[38;5;28mself\u001b[39m\u001b[38;5;241m.\u001b[39mcallback_manager\u001b[38;5;241m.\u001b[39mon_llm_start(\n\u001b[0;32m    134\u001b[0m     {\u001b[38;5;124m\"\u001b[39m\u001b[38;5;124mname\u001b[39m\u001b[38;5;124m\"\u001b[39m: \u001b[38;5;28mself\u001b[39m\u001b[38;5;241m.\u001b[39m\u001b[38;5;18m__class__\u001b[39m\u001b[38;5;241m.\u001b[39m\u001b[38;5;18m__name__\u001b[39m}, prompts, verbose\u001b[38;5;241m=\u001b[39m\u001b[38;5;28mself\u001b[39m\u001b[38;5;241m.\u001b[39mverbose\n\u001b[0;32m    135\u001b[0m )\n\u001b[0;32m    136\u001b[0m \u001b[38;5;28;01mtry\u001b[39;00m:\n\u001b[1;32m--> 137\u001b[0m     output \u001b[38;5;241m=\u001b[39m \u001b[38;5;28;43mself\u001b[39;49m\u001b[38;5;241;43m.\u001b[39;49m\u001b[43m_generate\u001b[49m\u001b[43m(\u001b[49m\u001b[43mprompts\u001b[49m\u001b[43m,\u001b[49m\u001b[43m \u001b[49m\u001b[43mstop\u001b[49m\u001b[38;5;241;43m=\u001b[39;49m\u001b[43mstop\u001b[49m\u001b[43m)\u001b[49m\n\u001b[0;32m    138\u001b[0m \u001b[38;5;28;01mexcept\u001b[39;00m (\u001b[38;5;167;01mKeyboardInterrupt\u001b[39;00m, \u001b[38;5;167;01mException\u001b[39;00m) \u001b[38;5;28;01mas\u001b[39;00m e:\n\u001b[0;32m    139\u001b[0m     \u001b[38;5;28mself\u001b[39m\u001b[38;5;241m.\u001b[39mcallback_manager\u001b[38;5;241m.\u001b[39mon_llm_error(e, verbose\u001b[38;5;241m=\u001b[39m\u001b[38;5;28mself\u001b[39m\u001b[38;5;241m.\u001b[39mverbose)\n",
      "File \u001b[1;32m~\\anaconda3\\envs\\ml_env\\lib\\site-packages\\langchain\\llms\\openai.py:298\u001b[0m, in \u001b[0;36mBaseOpenAI._generate\u001b[1;34m(self, prompts, stop)\u001b[0m\n\u001b[0;32m    296\u001b[0m     choices\u001b[38;5;241m.\u001b[39mextend(response[\u001b[38;5;124m\"\u001b[39m\u001b[38;5;124mchoices\u001b[39m\u001b[38;5;124m\"\u001b[39m])\n\u001b[0;32m    297\u001b[0m \u001b[38;5;28;01melse\u001b[39;00m:\n\u001b[1;32m--> 298\u001b[0m     response \u001b[38;5;241m=\u001b[39m completion_with_retry(\u001b[38;5;28mself\u001b[39m, prompt\u001b[38;5;241m=\u001b[39m_prompts, \u001b[38;5;241m*\u001b[39m\u001b[38;5;241m*\u001b[39mparams)\n\u001b[0;32m    299\u001b[0m     choices\u001b[38;5;241m.\u001b[39mextend(response[\u001b[38;5;124m\"\u001b[39m\u001b[38;5;124mchoices\u001b[39m\u001b[38;5;124m\"\u001b[39m])\n\u001b[0;32m    300\u001b[0m \u001b[38;5;28;01mif\u001b[39;00m \u001b[38;5;129;01mnot\u001b[39;00m \u001b[38;5;28mself\u001b[39m\u001b[38;5;241m.\u001b[39mstreaming:\n\u001b[0;32m    301\u001b[0m     \u001b[38;5;66;03m# Can't update token usage if streaming\u001b[39;00m\n",
      "File \u001b[1;32m~\\anaconda3\\envs\\ml_env\\lib\\site-packages\\langchain\\llms\\openai.py:102\u001b[0m, in \u001b[0;36mcompletion_with_retry\u001b[1;34m(llm, **kwargs)\u001b[0m\n\u001b[0;32m     98\u001b[0m \u001b[38;5;129m@retry_decorator\u001b[39m\n\u001b[0;32m     99\u001b[0m \u001b[38;5;28;01mdef\u001b[39;00m \u001b[38;5;21m_completion_with_retry\u001b[39m(\u001b[38;5;241m*\u001b[39m\u001b[38;5;241m*\u001b[39mkwargs: Any) \u001b[38;5;241m-\u001b[39m\u001b[38;5;241m>\u001b[39m Any:\n\u001b[0;32m    100\u001b[0m     \u001b[38;5;28;01mreturn\u001b[39;00m llm\u001b[38;5;241m.\u001b[39mclient\u001b[38;5;241m.\u001b[39mcreate(\u001b[38;5;241m*\u001b[39m\u001b[38;5;241m*\u001b[39mkwargs)\n\u001b[1;32m--> 102\u001b[0m \u001b[38;5;28;01mreturn\u001b[39;00m _completion_with_retry(\u001b[38;5;241m*\u001b[39m\u001b[38;5;241m*\u001b[39mkwargs)\n",
      "File \u001b[1;32m~\\anaconda3\\envs\\ml_env\\lib\\site-packages\\tenacity\\__init__.py:289\u001b[0m, in \u001b[0;36mBaseRetrying.wraps.<locals>.wrapped_f\u001b[1;34m(*args, **kw)\u001b[0m\n\u001b[0;32m    287\u001b[0m \u001b[38;5;129m@functools\u001b[39m\u001b[38;5;241m.\u001b[39mwraps(f)\n\u001b[0;32m    288\u001b[0m \u001b[38;5;28;01mdef\u001b[39;00m \u001b[38;5;21mwrapped_f\u001b[39m(\u001b[38;5;241m*\u001b[39margs: t\u001b[38;5;241m.\u001b[39mAny, \u001b[38;5;241m*\u001b[39m\u001b[38;5;241m*\u001b[39mkw: t\u001b[38;5;241m.\u001b[39mAny) \u001b[38;5;241m-\u001b[39m\u001b[38;5;241m>\u001b[39m t\u001b[38;5;241m.\u001b[39mAny:\n\u001b[1;32m--> 289\u001b[0m     \u001b[38;5;28;01mreturn\u001b[39;00m \u001b[38;5;28mself\u001b[39m(f, \u001b[38;5;241m*\u001b[39margs, \u001b[38;5;241m*\u001b[39m\u001b[38;5;241m*\u001b[39mkw)\n",
      "File \u001b[1;32m~\\anaconda3\\envs\\ml_env\\lib\\site-packages\\tenacity\\__init__.py:379\u001b[0m, in \u001b[0;36mRetrying.__call__\u001b[1;34m(self, fn, *args, **kwargs)\u001b[0m\n\u001b[0;32m    377\u001b[0m retry_state \u001b[38;5;241m=\u001b[39m RetryCallState(retry_object\u001b[38;5;241m=\u001b[39m\u001b[38;5;28mself\u001b[39m, fn\u001b[38;5;241m=\u001b[39mfn, args\u001b[38;5;241m=\u001b[39margs, kwargs\u001b[38;5;241m=\u001b[39mkwargs)\n\u001b[0;32m    378\u001b[0m \u001b[38;5;28;01mwhile\u001b[39;00m \u001b[38;5;28;01mTrue\u001b[39;00m:\n\u001b[1;32m--> 379\u001b[0m     do \u001b[38;5;241m=\u001b[39m \u001b[38;5;28;43mself\u001b[39;49m\u001b[38;5;241;43m.\u001b[39;49m\u001b[43miter\u001b[49m\u001b[43m(\u001b[49m\u001b[43mretry_state\u001b[49m\u001b[38;5;241;43m=\u001b[39;49m\u001b[43mretry_state\u001b[49m\u001b[43m)\u001b[49m\n\u001b[0;32m    380\u001b[0m     \u001b[38;5;28;01mif\u001b[39;00m \u001b[38;5;28misinstance\u001b[39m(do, DoAttempt):\n\u001b[0;32m    381\u001b[0m         \u001b[38;5;28;01mtry\u001b[39;00m:\n",
      "File \u001b[1;32m~\\anaconda3\\envs\\ml_env\\lib\\site-packages\\tenacity\\__init__.py:314\u001b[0m, in \u001b[0;36mBaseRetrying.iter\u001b[1;34m(self, retry_state)\u001b[0m\n\u001b[0;32m    312\u001b[0m is_explicit_retry \u001b[38;5;241m=\u001b[39m fut\u001b[38;5;241m.\u001b[39mfailed \u001b[38;5;129;01mand\u001b[39;00m \u001b[38;5;28misinstance\u001b[39m(fut\u001b[38;5;241m.\u001b[39mexception(), TryAgain)\n\u001b[0;32m    313\u001b[0m \u001b[38;5;28;01mif\u001b[39;00m \u001b[38;5;129;01mnot\u001b[39;00m (is_explicit_retry \u001b[38;5;129;01mor\u001b[39;00m \u001b[38;5;28mself\u001b[39m\u001b[38;5;241m.\u001b[39mretry(retry_state)):\n\u001b[1;32m--> 314\u001b[0m     \u001b[38;5;28;01mreturn\u001b[39;00m \u001b[43mfut\u001b[49m\u001b[38;5;241;43m.\u001b[39;49m\u001b[43mresult\u001b[49m\u001b[43m(\u001b[49m\u001b[43m)\u001b[49m\n\u001b[0;32m    316\u001b[0m \u001b[38;5;28;01mif\u001b[39;00m \u001b[38;5;28mself\u001b[39m\u001b[38;5;241m.\u001b[39mafter \u001b[38;5;129;01mis\u001b[39;00m \u001b[38;5;129;01mnot\u001b[39;00m \u001b[38;5;28;01mNone\u001b[39;00m:\n\u001b[0;32m    317\u001b[0m     \u001b[38;5;28mself\u001b[39m\u001b[38;5;241m.\u001b[39mafter(retry_state)\n",
      "File \u001b[1;32m~\\anaconda3\\envs\\ml_env\\lib\\concurrent\\futures\\_base.py:439\u001b[0m, in \u001b[0;36mFuture.result\u001b[1;34m(self, timeout)\u001b[0m\n\u001b[0;32m    437\u001b[0m     \u001b[38;5;28;01mraise\u001b[39;00m CancelledError()\n\u001b[0;32m    438\u001b[0m \u001b[38;5;28;01melif\u001b[39;00m \u001b[38;5;28mself\u001b[39m\u001b[38;5;241m.\u001b[39m_state \u001b[38;5;241m==\u001b[39m FINISHED:\n\u001b[1;32m--> 439\u001b[0m     \u001b[38;5;28;01mreturn\u001b[39;00m \u001b[38;5;28;43mself\u001b[39;49m\u001b[38;5;241;43m.\u001b[39;49m\u001b[43m__get_result\u001b[49m\u001b[43m(\u001b[49m\u001b[43m)\u001b[49m\n\u001b[0;32m    441\u001b[0m \u001b[38;5;28mself\u001b[39m\u001b[38;5;241m.\u001b[39m_condition\u001b[38;5;241m.\u001b[39mwait(timeout)\n\u001b[0;32m    443\u001b[0m \u001b[38;5;28;01mif\u001b[39;00m \u001b[38;5;28mself\u001b[39m\u001b[38;5;241m.\u001b[39m_state \u001b[38;5;129;01min\u001b[39;00m [CANCELLED, CANCELLED_AND_NOTIFIED]:\n",
      "File \u001b[1;32m~\\anaconda3\\envs\\ml_env\\lib\\concurrent\\futures\\_base.py:391\u001b[0m, in \u001b[0;36mFuture.__get_result\u001b[1;34m(self)\u001b[0m\n\u001b[0;32m    389\u001b[0m \u001b[38;5;28;01mif\u001b[39;00m \u001b[38;5;28mself\u001b[39m\u001b[38;5;241m.\u001b[39m_exception:\n\u001b[0;32m    390\u001b[0m     \u001b[38;5;28;01mtry\u001b[39;00m:\n\u001b[1;32m--> 391\u001b[0m         \u001b[38;5;28;01mraise\u001b[39;00m \u001b[38;5;28mself\u001b[39m\u001b[38;5;241m.\u001b[39m_exception\n\u001b[0;32m    392\u001b[0m     \u001b[38;5;28;01mfinally\u001b[39;00m:\n\u001b[0;32m    393\u001b[0m         \u001b[38;5;66;03m# Break a reference cycle with the exception in self._exception\u001b[39;00m\n\u001b[0;32m    394\u001b[0m         \u001b[38;5;28mself\u001b[39m \u001b[38;5;241m=\u001b[39m \u001b[38;5;28;01mNone\u001b[39;00m\n",
      "File \u001b[1;32m~\\anaconda3\\envs\\ml_env\\lib\\site-packages\\tenacity\\__init__.py:382\u001b[0m, in \u001b[0;36mRetrying.__call__\u001b[1;34m(self, fn, *args, **kwargs)\u001b[0m\n\u001b[0;32m    380\u001b[0m \u001b[38;5;28;01mif\u001b[39;00m \u001b[38;5;28misinstance\u001b[39m(do, DoAttempt):\n\u001b[0;32m    381\u001b[0m     \u001b[38;5;28;01mtry\u001b[39;00m:\n\u001b[1;32m--> 382\u001b[0m         result \u001b[38;5;241m=\u001b[39m fn(\u001b[38;5;241m*\u001b[39margs, \u001b[38;5;241m*\u001b[39m\u001b[38;5;241m*\u001b[39mkwargs)\n\u001b[0;32m    383\u001b[0m     \u001b[38;5;28;01mexcept\u001b[39;00m \u001b[38;5;167;01mBaseException\u001b[39;00m:  \u001b[38;5;66;03m# noqa: B902\u001b[39;00m\n\u001b[0;32m    384\u001b[0m         retry_state\u001b[38;5;241m.\u001b[39mset_exception(sys\u001b[38;5;241m.\u001b[39mexc_info())  \u001b[38;5;66;03m# type: ignore[arg-type]\u001b[39;00m\n",
      "File \u001b[1;32m~\\anaconda3\\envs\\ml_env\\lib\\site-packages\\langchain\\llms\\openai.py:100\u001b[0m, in \u001b[0;36mcompletion_with_retry.<locals>._completion_with_retry\u001b[1;34m(**kwargs)\u001b[0m\n\u001b[0;32m     98\u001b[0m \u001b[38;5;129m@retry_decorator\u001b[39m\n\u001b[0;32m     99\u001b[0m \u001b[38;5;28;01mdef\u001b[39;00m \u001b[38;5;21m_completion_with_retry\u001b[39m(\u001b[38;5;241m*\u001b[39m\u001b[38;5;241m*\u001b[39mkwargs: Any) \u001b[38;5;241m-\u001b[39m\u001b[38;5;241m>\u001b[39m Any:\n\u001b[1;32m--> 100\u001b[0m     \u001b[38;5;28;01mreturn\u001b[39;00m llm\u001b[38;5;241m.\u001b[39mclient\u001b[38;5;241m.\u001b[39mcreate(\u001b[38;5;241m*\u001b[39m\u001b[38;5;241m*\u001b[39mkwargs)\n",
      "File \u001b[1;32m~\\anaconda3\\envs\\ml_env\\lib\\site-packages\\openai\\api_resources\\completion.py:25\u001b[0m, in \u001b[0;36mCompletion.create\u001b[1;34m(cls, *args, **kwargs)\u001b[0m\n\u001b[0;32m     23\u001b[0m \u001b[38;5;28;01mwhile\u001b[39;00m \u001b[38;5;28;01mTrue\u001b[39;00m:\n\u001b[0;32m     24\u001b[0m     \u001b[38;5;28;01mtry\u001b[39;00m:\n\u001b[1;32m---> 25\u001b[0m         \u001b[38;5;28;01mreturn\u001b[39;00m \u001b[38;5;28msuper\u001b[39m()\u001b[38;5;241m.\u001b[39mcreate(\u001b[38;5;241m*\u001b[39margs, \u001b[38;5;241m*\u001b[39m\u001b[38;5;241m*\u001b[39mkwargs)\n\u001b[0;32m     26\u001b[0m     \u001b[38;5;28;01mexcept\u001b[39;00m TryAgain \u001b[38;5;28;01mas\u001b[39;00m e:\n\u001b[0;32m     27\u001b[0m         \u001b[38;5;28;01mif\u001b[39;00m timeout \u001b[38;5;129;01mis\u001b[39;00m \u001b[38;5;129;01mnot\u001b[39;00m \u001b[38;5;28;01mNone\u001b[39;00m \u001b[38;5;129;01mand\u001b[39;00m time\u001b[38;5;241m.\u001b[39mtime() \u001b[38;5;241m>\u001b[39m start \u001b[38;5;241m+\u001b[39m timeout:\n",
      "File \u001b[1;32m~\\anaconda3\\envs\\ml_env\\lib\\site-packages\\openai\\api_resources\\abstract\\engine_api_resource.py:153\u001b[0m, in \u001b[0;36mEngineAPIResource.create\u001b[1;34m(cls, api_key, api_base, api_type, request_id, api_version, organization, **params)\u001b[0m\n\u001b[0;32m    127\u001b[0m \u001b[38;5;129m@classmethod\u001b[39m\n\u001b[0;32m    128\u001b[0m \u001b[38;5;28;01mdef\u001b[39;00m \u001b[38;5;21mcreate\u001b[39m(\n\u001b[0;32m    129\u001b[0m     \u001b[38;5;28mcls\u001b[39m,\n\u001b[1;32m   (...)\u001b[0m\n\u001b[0;32m    136\u001b[0m     \u001b[38;5;241m*\u001b[39m\u001b[38;5;241m*\u001b[39mparams,\n\u001b[0;32m    137\u001b[0m ):\n\u001b[0;32m    138\u001b[0m     (\n\u001b[0;32m    139\u001b[0m         deployment_id,\n\u001b[0;32m    140\u001b[0m         engine,\n\u001b[1;32m   (...)\u001b[0m\n\u001b[0;32m    150\u001b[0m         api_key, api_base, api_type, api_version, organization, \u001b[38;5;241m*\u001b[39m\u001b[38;5;241m*\u001b[39mparams\n\u001b[0;32m    151\u001b[0m     )\n\u001b[1;32m--> 153\u001b[0m     response, _, api_key \u001b[38;5;241m=\u001b[39m \u001b[43mrequestor\u001b[49m\u001b[38;5;241;43m.\u001b[39;49m\u001b[43mrequest\u001b[49m\u001b[43m(\u001b[49m\n\u001b[0;32m    154\u001b[0m \u001b[43m        \u001b[49m\u001b[38;5;124;43m\"\u001b[39;49m\u001b[38;5;124;43mpost\u001b[39;49m\u001b[38;5;124;43m\"\u001b[39;49m\u001b[43m,\u001b[49m\n\u001b[0;32m    155\u001b[0m \u001b[43m        \u001b[49m\u001b[43murl\u001b[49m\u001b[43m,\u001b[49m\n\u001b[0;32m    156\u001b[0m \u001b[43m        \u001b[49m\u001b[43mparams\u001b[49m\u001b[38;5;241;43m=\u001b[39;49m\u001b[43mparams\u001b[49m\u001b[43m,\u001b[49m\n\u001b[0;32m    157\u001b[0m \u001b[43m        \u001b[49m\u001b[43mheaders\u001b[49m\u001b[38;5;241;43m=\u001b[39;49m\u001b[43mheaders\u001b[49m\u001b[43m,\u001b[49m\n\u001b[0;32m    158\u001b[0m \u001b[43m        \u001b[49m\u001b[43mstream\u001b[49m\u001b[38;5;241;43m=\u001b[39;49m\u001b[43mstream\u001b[49m\u001b[43m,\u001b[49m\n\u001b[0;32m    159\u001b[0m \u001b[43m        \u001b[49m\u001b[43mrequest_id\u001b[49m\u001b[38;5;241;43m=\u001b[39;49m\u001b[43mrequest_id\u001b[49m\u001b[43m,\u001b[49m\n\u001b[0;32m    160\u001b[0m \u001b[43m        \u001b[49m\u001b[43mrequest_timeout\u001b[49m\u001b[38;5;241;43m=\u001b[39;49m\u001b[43mrequest_timeout\u001b[49m\u001b[43m,\u001b[49m\n\u001b[0;32m    161\u001b[0m \u001b[43m    \u001b[49m\u001b[43m)\u001b[49m\n\u001b[0;32m    163\u001b[0m     \u001b[38;5;28;01mif\u001b[39;00m stream:\n\u001b[0;32m    164\u001b[0m         \u001b[38;5;66;03m# must be an iterator\u001b[39;00m\n\u001b[0;32m    165\u001b[0m         \u001b[38;5;28;01massert\u001b[39;00m \u001b[38;5;129;01mnot\u001b[39;00m \u001b[38;5;28misinstance\u001b[39m(response, OpenAIResponse)\n",
      "File \u001b[1;32m~\\anaconda3\\envs\\ml_env\\lib\\site-packages\\openai\\api_requestor.py:298\u001b[0m, in \u001b[0;36mAPIRequestor.request\u001b[1;34m(self, method, url, params, headers, files, stream, request_id, request_timeout)\u001b[0m\n\u001b[0;32m    277\u001b[0m \u001b[38;5;28;01mdef\u001b[39;00m \u001b[38;5;21mrequest\u001b[39m(\n\u001b[0;32m    278\u001b[0m     \u001b[38;5;28mself\u001b[39m,\n\u001b[0;32m    279\u001b[0m     method,\n\u001b[1;32m   (...)\u001b[0m\n\u001b[0;32m    286\u001b[0m     request_timeout: Optional[Union[\u001b[38;5;28mfloat\u001b[39m, Tuple[\u001b[38;5;28mfloat\u001b[39m, \u001b[38;5;28mfloat\u001b[39m]]] \u001b[38;5;241m=\u001b[39m \u001b[38;5;28;01mNone\u001b[39;00m,\n\u001b[0;32m    287\u001b[0m ) \u001b[38;5;241m-\u001b[39m\u001b[38;5;241m>\u001b[39m Tuple[Union[OpenAIResponse, Iterator[OpenAIResponse]], \u001b[38;5;28mbool\u001b[39m, \u001b[38;5;28mstr\u001b[39m]:\n\u001b[0;32m    288\u001b[0m     result \u001b[38;5;241m=\u001b[39m \u001b[38;5;28mself\u001b[39m\u001b[38;5;241m.\u001b[39mrequest_raw(\n\u001b[0;32m    289\u001b[0m         method\u001b[38;5;241m.\u001b[39mlower(),\n\u001b[0;32m    290\u001b[0m         url,\n\u001b[1;32m   (...)\u001b[0m\n\u001b[0;32m    296\u001b[0m         request_timeout\u001b[38;5;241m=\u001b[39mrequest_timeout,\n\u001b[0;32m    297\u001b[0m     )\n\u001b[1;32m--> 298\u001b[0m     resp, got_stream \u001b[38;5;241m=\u001b[39m \u001b[38;5;28;43mself\u001b[39;49m\u001b[38;5;241;43m.\u001b[39;49m\u001b[43m_interpret_response\u001b[49m\u001b[43m(\u001b[49m\u001b[43mresult\u001b[49m\u001b[43m,\u001b[49m\u001b[43m \u001b[49m\u001b[43mstream\u001b[49m\u001b[43m)\u001b[49m\n\u001b[0;32m    299\u001b[0m     \u001b[38;5;28;01mreturn\u001b[39;00m resp, got_stream, \u001b[38;5;28mself\u001b[39m\u001b[38;5;241m.\u001b[39mapi_key\n",
      "File \u001b[1;32m~\\anaconda3\\envs\\ml_env\\lib\\site-packages\\openai\\api_requestor.py:700\u001b[0m, in \u001b[0;36mAPIRequestor._interpret_response\u001b[1;34m(self, result, stream)\u001b[0m\n\u001b[0;32m    692\u001b[0m     \u001b[38;5;28;01mreturn\u001b[39;00m (\n\u001b[0;32m    693\u001b[0m         \u001b[38;5;28mself\u001b[39m\u001b[38;5;241m.\u001b[39m_interpret_response_line(\n\u001b[0;32m    694\u001b[0m             line, result\u001b[38;5;241m.\u001b[39mstatus_code, result\u001b[38;5;241m.\u001b[39mheaders, stream\u001b[38;5;241m=\u001b[39m\u001b[38;5;28;01mTrue\u001b[39;00m\n\u001b[0;32m    695\u001b[0m         )\n\u001b[0;32m    696\u001b[0m         \u001b[38;5;28;01mfor\u001b[39;00m line \u001b[38;5;129;01min\u001b[39;00m parse_stream(result\u001b[38;5;241m.\u001b[39miter_lines())\n\u001b[0;32m    697\u001b[0m     ), \u001b[38;5;28;01mTrue\u001b[39;00m\n\u001b[0;32m    698\u001b[0m \u001b[38;5;28;01melse\u001b[39;00m:\n\u001b[0;32m    699\u001b[0m     \u001b[38;5;28;01mreturn\u001b[39;00m (\n\u001b[1;32m--> 700\u001b[0m         \u001b[38;5;28;43mself\u001b[39;49m\u001b[38;5;241;43m.\u001b[39;49m\u001b[43m_interpret_response_line\u001b[49m\u001b[43m(\u001b[49m\n\u001b[0;32m    701\u001b[0m \u001b[43m            \u001b[49m\u001b[43mresult\u001b[49m\u001b[38;5;241;43m.\u001b[39;49m\u001b[43mcontent\u001b[49m\u001b[38;5;241;43m.\u001b[39;49m\u001b[43mdecode\u001b[49m\u001b[43m(\u001b[49m\u001b[38;5;124;43m\"\u001b[39;49m\u001b[38;5;124;43mutf-8\u001b[39;49m\u001b[38;5;124;43m\"\u001b[39;49m\u001b[43m)\u001b[49m\u001b[43m,\u001b[49m\n\u001b[0;32m    702\u001b[0m \u001b[43m            \u001b[49m\u001b[43mresult\u001b[49m\u001b[38;5;241;43m.\u001b[39;49m\u001b[43mstatus_code\u001b[49m\u001b[43m,\u001b[49m\n\u001b[0;32m    703\u001b[0m \u001b[43m            \u001b[49m\u001b[43mresult\u001b[49m\u001b[38;5;241;43m.\u001b[39;49m\u001b[43mheaders\u001b[49m\u001b[43m,\u001b[49m\n\u001b[0;32m    704\u001b[0m \u001b[43m            \u001b[49m\u001b[43mstream\u001b[49m\u001b[38;5;241;43m=\u001b[39;49m\u001b[38;5;28;43;01mFalse\u001b[39;49;00m\u001b[43m,\u001b[49m\n\u001b[0;32m    705\u001b[0m \u001b[43m        \u001b[49m\u001b[43m)\u001b[49m,\n\u001b[0;32m    706\u001b[0m         \u001b[38;5;28;01mFalse\u001b[39;00m,\n\u001b[0;32m    707\u001b[0m     )\n",
      "File \u001b[1;32m~\\anaconda3\\envs\\ml_env\\lib\\site-packages\\openai\\api_requestor.py:763\u001b[0m, in \u001b[0;36mAPIRequestor._interpret_response_line\u001b[1;34m(self, rbody, rcode, rheaders, stream)\u001b[0m\n\u001b[0;32m    761\u001b[0m stream_error \u001b[38;5;241m=\u001b[39m stream \u001b[38;5;129;01mand\u001b[39;00m \u001b[38;5;124m\"\u001b[39m\u001b[38;5;124merror\u001b[39m\u001b[38;5;124m\"\u001b[39m \u001b[38;5;129;01min\u001b[39;00m resp\u001b[38;5;241m.\u001b[39mdata\n\u001b[0;32m    762\u001b[0m \u001b[38;5;28;01mif\u001b[39;00m stream_error \u001b[38;5;129;01mor\u001b[39;00m \u001b[38;5;129;01mnot\u001b[39;00m \u001b[38;5;241m200\u001b[39m \u001b[38;5;241m<\u001b[39m\u001b[38;5;241m=\u001b[39m rcode \u001b[38;5;241m<\u001b[39m \u001b[38;5;241m300\u001b[39m:\n\u001b[1;32m--> 763\u001b[0m     \u001b[38;5;28;01mraise\u001b[39;00m \u001b[38;5;28mself\u001b[39m\u001b[38;5;241m.\u001b[39mhandle_error_response(\n\u001b[0;32m    764\u001b[0m         rbody, rcode, resp\u001b[38;5;241m.\u001b[39mdata, rheaders, stream_error\u001b[38;5;241m=\u001b[39mstream_error\n\u001b[0;32m    765\u001b[0m     )\n\u001b[0;32m    766\u001b[0m \u001b[38;5;28;01mreturn\u001b[39;00m resp\n",
      "\u001b[1;31mInvalidRequestError\u001b[0m: This model's maximum context length is 4097 tokens, however you requested 12061 tokens (11805 in your prompt; 256 for the completion). Please reduce your prompt; or completion length."
     ]
    }
   ],
   "source": [
    "## Using Python DF Agent to generate associated observations from the Python code\n",
    "\n",
    "# Creating a Python DF Agent on a dataset with all small values\n",
    "py_df_agent_analyzer = create_python_agent(offers_brand_w_category_w_Deets)\n",
    "\n",
    "# Running the Python DF Agent on the output returned by above prompt\n",
    "Offer_pull_list = py_df_agent_analyzer.run(\"Give all OFFER values for\" + Right_Column_to_Search\n",
    "                                          )\n",
    "    \n",
    "    \n",
    "print(\"Offers Pulled: \"),\n",
    "print(Offer_pull_list)\n",
    "print('----------------------------------------------------------')\n",
    "print()"
   ]
  },
  {
   "cell_type": "code",
   "execution_count": null,
   "id": "9485d2e5",
   "metadata": {},
   "outputs": [],
   "source": []
  },
  {
   "cell_type": "code",
   "execution_count": null,
   "id": "ca024cd2",
   "metadata": {},
   "outputs": [],
   "source": []
  },
  {
   "cell_type": "code",
   "execution_count": 13,
   "id": "5c7c2da9",
   "metadata": {},
   "outputs": [],
   "source": [
    "#############################################\n",
    "# Undependable below\n",
    "#############################################"
   ]
  },
  {
   "cell_type": "code",
   "execution_count": 146,
   "id": "2df6aa22",
   "metadata": {
    "scrolled": true
   },
   "outputs": [
    {
     "name": "stdout",
     "output_type": "stream",
     "text": [
      "\n",
      "\n",
      "\u001b[1m> Entering new AgentExecutor chain...\u001b[0m\n",
      "\u001b[32;1m\u001b[1;3mThought: I need to filter the dataframe to get the offers for KFC\n",
      "Action: python_repl_ast\n",
      "Action Input: df[df['BRAND'].str.contains('KFC', case=False)]\u001b[0m\n",
      "Observation: \u001b[36;1m\u001b[1;3m                OFFER RETAILER BRAND Category  RECEIPTS CATEGORY_ID Product\n",
      "71   spend $20 at kfc      kfc   kfc      NaN       NaN         NaN     NaN\n",
      "80   spend $25 at kfc      kfc   kfc      NaN       NaN         NaN     NaN\n",
      "501  spend $15 at kfc      kfc   kfc      NaN       NaN         NaN     NaN\n",
      "672  spend $40 at kfc      kfc   kfc      NaN       NaN         NaN     NaN\n",
      "858  spend $10 at kfc      kfc   kfc      NaN       NaN         NaN     NaN\u001b[0m\n",
      "Thought:\u001b[32;1m\u001b[1;3m I now know the offers for KFC\n",
      "Final Answer: The offers for KFC are: spend $20 at kfc, spend $25 at kfc, spend $15 at kfc, spend $40 at kfc, and spend $10 at kfc.\u001b[0m\n",
      "\n",
      "\u001b[1m> Finished chain.\u001b[0m\n",
      "Offers Pulled: \n",
      "The offers for KFC are: spend $20 at kfc, spend $25 at kfc, spend $15 at kfc, spend $40 at kfc, and spend $10 at kfc.\n"
     ]
    }
   ],
   "source": [
    "# Ask me anything \n",
    "Offer_pull_list = py_df_agent_analyzer.run(\"Give me all offers for brand KFC and in a case insensitive way\")  \n",
    "\n",
    "    \n",
    "print(\"Offers Pulled: \")\n",
    "print(Offer_pull_list)"
   ]
  },
  {
   "cell_type": "code",
   "execution_count": 137,
   "id": "0779fce0",
   "metadata": {},
   "outputs": [
    {
     "data": {
      "text/html": [
       "<div>\n",
       "<style scoped>\n",
       "    .dataframe tbody tr th:only-of-type {\n",
       "        vertical-align: middle;\n",
       "    }\n",
       "\n",
       "    .dataframe tbody tr th {\n",
       "        vertical-align: top;\n",
       "    }\n",
       "\n",
       "    .dataframe thead th {\n",
       "        text-align: right;\n",
       "    }\n",
       "</style>\n",
       "<table border=\"1\" class=\"dataframe\">\n",
       "  <thead>\n",
       "    <tr style=\"text-align: right;\">\n",
       "      <th></th>\n",
       "      <th>OFFER</th>\n",
       "      <th>RETAILER</th>\n",
       "      <th>BRAND</th>\n",
       "      <th>Category</th>\n",
       "      <th>RECEIPTS</th>\n",
       "      <th>CATEGORY_ID</th>\n",
       "      <th>Product</th>\n",
       "    </tr>\n",
       "  </thead>\n",
       "  <tbody>\n",
       "  </tbody>\n",
       "</table>\n",
       "</div>"
      ],
      "text/plain": [
       "Empty DataFrame\n",
       "Columns: [OFFER, RETAILER, BRAND, Category, RECEIPTS, CATEGORY_ID, Product]\n",
       "Index: []"
      ]
     },
     "execution_count": 137,
     "metadata": {},
     "output_type": "execute_result"
    }
   ],
   "source": [
    "offers_brand_w_category_w_Deets[offers_brand_w_category_w_Deets['BRAND'] == 'KFC']"
   ]
  },
  {
   "cell_type": "code",
   "execution_count": 138,
   "id": "6faf8b69",
   "metadata": {},
   "outputs": [
    {
     "data": {
      "text/html": [
       "<div>\n",
       "<style scoped>\n",
       "    .dataframe tbody tr th:only-of-type {\n",
       "        vertical-align: middle;\n",
       "    }\n",
       "\n",
       "    .dataframe tbody tr th {\n",
       "        vertical-align: top;\n",
       "    }\n",
       "\n",
       "    .dataframe thead th {\n",
       "        text-align: right;\n",
       "    }\n",
       "</style>\n",
       "<table border=\"1\" class=\"dataframe\">\n",
       "  <thead>\n",
       "    <tr style=\"text-align: right;\">\n",
       "      <th></th>\n",
       "      <th>OFFER</th>\n",
       "      <th>RETAILER</th>\n",
       "      <th>BRAND</th>\n",
       "      <th>Category</th>\n",
       "      <th>RECEIPTS</th>\n",
       "      <th>CATEGORY_ID</th>\n",
       "      <th>Product</th>\n",
       "    </tr>\n",
       "  </thead>\n",
       "  <tbody>\n",
       "    <tr>\n",
       "      <th>71</th>\n",
       "      <td>spend $20 at kfc</td>\n",
       "      <td>kfc</td>\n",
       "      <td>kfc</td>\n",
       "      <td>NaN</td>\n",
       "      <td>NaN</td>\n",
       "      <td>NaN</td>\n",
       "      <td>NaN</td>\n",
       "    </tr>\n",
       "    <tr>\n",
       "      <th>80</th>\n",
       "      <td>spend $25 at kfc</td>\n",
       "      <td>kfc</td>\n",
       "      <td>kfc</td>\n",
       "      <td>NaN</td>\n",
       "      <td>NaN</td>\n",
       "      <td>NaN</td>\n",
       "      <td>NaN</td>\n",
       "    </tr>\n",
       "    <tr>\n",
       "      <th>501</th>\n",
       "      <td>spend $15 at kfc</td>\n",
       "      <td>kfc</td>\n",
       "      <td>kfc</td>\n",
       "      <td>NaN</td>\n",
       "      <td>NaN</td>\n",
       "      <td>NaN</td>\n",
       "      <td>NaN</td>\n",
       "    </tr>\n",
       "    <tr>\n",
       "      <th>672</th>\n",
       "      <td>spend $40 at kfc</td>\n",
       "      <td>kfc</td>\n",
       "      <td>kfc</td>\n",
       "      <td>NaN</td>\n",
       "      <td>NaN</td>\n",
       "      <td>NaN</td>\n",
       "      <td>NaN</td>\n",
       "    </tr>\n",
       "    <tr>\n",
       "      <th>858</th>\n",
       "      <td>spend $10 at kfc</td>\n",
       "      <td>kfc</td>\n",
       "      <td>kfc</td>\n",
       "      <td>NaN</td>\n",
       "      <td>NaN</td>\n",
       "      <td>NaN</td>\n",
       "      <td>NaN</td>\n",
       "    </tr>\n",
       "  </tbody>\n",
       "</table>\n",
       "</div>"
      ],
      "text/plain": [
       "                OFFER RETAILER BRAND Category  RECEIPTS CATEGORY_ID Product\n",
       "71   spend $20 at kfc      kfc   kfc      NaN       NaN         NaN     NaN\n",
       "80   spend $25 at kfc      kfc   kfc      NaN       NaN         NaN     NaN\n",
       "501  spend $15 at kfc      kfc   kfc      NaN       NaN         NaN     NaN\n",
       "672  spend $40 at kfc      kfc   kfc      NaN       NaN         NaN     NaN\n",
       "858  spend $10 at kfc      kfc   kfc      NaN       NaN         NaN     NaN"
      ]
     },
     "execution_count": 138,
     "metadata": {},
     "output_type": "execute_result"
    }
   ],
   "source": [
    "offers_brand_w_category_w_Deets[offers_brand_w_category_w_Deets.apply(lambda x: x.str.contains('KFC', case=False).any(), axis=1)]"
   ]
  },
  {
   "cell_type": "code",
   "execution_count": null,
   "id": "10d55a67",
   "metadata": {},
   "outputs": [],
   "source": []
  },
  {
   "cell_type": "code",
   "execution_count": null,
   "id": "76788b39",
   "metadata": {},
   "outputs": [],
   "source": []
  },
  {
   "cell_type": "code",
   "execution_count": null,
   "id": "dd0f186c",
   "metadata": {},
   "outputs": [],
   "source": []
  }
 ],
 "metadata": {
  "kernelspec": {
   "display_name": "Python 3 (ipykernel)",
   "language": "python",
   "name": "python3"
  },
  "language_info": {
   "codemirror_mode": {
    "name": "ipython",
    "version": 3
   },
   "file_extension": ".py",
   "mimetype": "text/x-python",
   "name": "python",
   "nbconvert_exporter": "python",
   "pygments_lexer": "ipython3",
   "version": "3.10.4"
  }
 },
 "nbformat": 4,
 "nbformat_minor": 5
}
